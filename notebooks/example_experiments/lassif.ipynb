{
 "cells": [
  {
   "cell_type": "markdown",
   "metadata": {},
   "source": [
    "This notebook have an example of usage classification pipeline for Alrosa gems color classification.\n",
    "[Description of the pilot on Confluence](https://confluence.jet.su/pages/viewpage.action?pageId=53248340)"
   ]
  },
  {
   "cell_type": "markdown",
   "metadata": {},
   "source": [
    "# Pipeline Description"
   ]
  },
  {
   "cell_type": "markdown",
   "metadata": {},
   "source": [
    "1) **Load data**  \n",
    "To run pipeline one need to create a dataset (*pd.DataFrame*) with columns:\n",
    "- **class_name**: *str*\n",
    "- **obj_id**: *str* - id of one item. Unique for single image classification. Images of the same object must have the same *obj_id* (for multi image classification)\n",
    "- **img_path**: *str* - path to image\n",
    "- **target**: *int* - encoding of classes\n",
    "\n",
    "\n",
    "2) **Set experiment parameters**  \n",
    "To set parameter we use configuration file with the following structure:   \n",
    "\n",
    "|Name|Type|Meaning|\n",
    "|:---------|:----|:--------------------------|\n",
    "|experiment_param.name|str|name of folder that will be created for storing artefacts of experiment|\n",
    "|experiment_param.path_save|str|path to the directory where it will be created to store the artifacts of the experiment|\n",
    "|experiment_param.path_tensorboard|str|path to the directory to which **tensorboard** will write results|\n",
    "|experiment_param.seed|int|random seed value|\n",
    "|train_param.num_epochs|int|number of epochs|\n",
    "|train_param.batch_size|int|size of batch|\n",
    "|train_param.num_workers|int|number of num_workers for DataLoader|\n",
    "|train_param.lr|float|learing rate value|\n",
    "|train_param.cuda_number|int|number of cuda device to train|\n",
    "|train_param.use_balanced_weights|bool|if True using balanced weights for Loss function|\n",
    "\n",
    "3) **Split data**  \n",
    "Split data to train, validation and test parts with obj_id stratification.  \n",
    "Save pandas DataFrames to experiment folder **experiment_param.name**\n",
    "It is necessary to save class names to file **metadata.yaml** to print confusion matrix after evaluation\n",
    "\n",
    "4) **Train model**  \n",
    "To train model one needs to specify *Config* and path to *experiment folder*.  \n",
    "During training process model weights are saving to **experiment_folder/model**\n",
    "\n",
    "<div class=\"alert alert-block alert-warning\">\n",
    "<b>Note:</b>\n",
    "<ul>\n",
    "    <li>By default all layers are trained.</li>\n",
    "    <li>To train model it is mandatory to have files **train.csv** and **val.csv** in experiment folder.</li>\n",
    "</ul>\n",
    "</div>"
   ]
  },
  {
   "cell_type": "markdown",
   "metadata": {},
   "source": [
    "# Imports"
   ]
  },
  {
   "cell_type": "code",
   "execution_count": 41,
   "metadata": {},
   "outputs": [],
   "source": [
    "# Imports\n",
    "import time\n",
    "import re\n",
    "from tqdm import tqdm\n",
    "import os\n",
    "from sklearn.svm import SVC\n",
    "import sys\n",
    "import math\n",
    "from pprint import pprint as pp\n",
    "import csv\n",
    "import pandas as pd\n",
    "import numpy as np\n",
    "from PIL import Image\n",
    "import cv2\n",
    "from sklearn.model_selection import cross_validate\n",
    "import torch\n",
    "from torch import nn\n",
    "from torch.nn import functional as F\n",
    "from torch.utils.data import DataLoader, Dataset\n",
    "from sklearn.model_selection import train_test_split\n",
    "from tensorflow.keras.utils import to_categorical\n",
    "from keras.models import Sequential\n",
    "from keras.layers import Dense, Conv2D, Flatten,Dropout ,MaxPooling2D, BatchNormalization\n",
    "import matplotlib.pyplot as plt\n",
    "import matplotlib.pyplot as plt\n",
    "import seaborn as sns\n",
    "import glob\n",
    "\n",
    "sys.path.append('../..') #add root directory of project to import needed modules\n",
    "\n",
    "from src.train_model import train_model\n",
    "from src.evaluate_model import evaluate_model\n",
    "from src.utils.general import load_yaml, save_yaml\n",
    "from src.utils.metrics import compute_metrics\n",
    "from src.utils.pipeline import load_model, build_data_loader, freeze_layers\n",
    "from src.utils.post_processing import aggregate_detailed_classes, aggregate_obj_results\n",
    "from src.analysis.mistakes import show_mistakes_by_target, show_mistakes_by_pred, plot_proba_distr\n",
    "import tensorflow\n",
    "from src.collection import CollectionAttention, CollectionSeparate\n",
    "from src.models.densenet import densenet121, DenseNetAttn\n",
    "from src.models.efficeintnet import EfficientnetB3AttnPretrained, EfficientnetB3Pretrained, EfficientnetB3\n",
    "from src.models.mobilenet import MobileNetV2_\n",
    "from src.models.resnet import ResNet50\n",
    "from src.train import TrainerAttention, TrainerSeparate\n",
    "\n",
    "from etc.alrosa.utils import get_values\n",
    "\n",
    "%matplotlib inline"
   ]
  },
  {
   "cell_type": "code",
   "execution_count": 34,
   "metadata": {},
   "outputs": [
    {
     "name": "stdout",
     "output_type": "stream",
     "text": [
      "The autoreload extension is already loaded. To reload it, use:\n",
      "  %reload_ext autoreload\n"
     ]
    }
   ],
   "source": [
    "%load_ext autoreload\n",
    "%autoreload 2"
   ]
  },
  {
   "cell_type": "code",
   "execution_count": 35,
   "metadata": {},
   "outputs": [
    {
     "data": {
      "text/html": [
       "<style>.container { width:80% !important; }</style>"
      ],
      "text/plain": [
       "<IPython.core.display.HTML object>"
      ]
     },
     "metadata": {},
     "output_type": "display_data"
    }
   ],
   "source": [
    " # Disable warnings print\n",
    "import warnings\n",
    "warnings.filterwarnings('ignore')\n",
    "\n",
    "# Set floating point and column format\n",
    "pd.options.display.float_format = '{:.4f}'.format\n",
    "pd.set_option('display.max_columns', None)\n",
    "\n",
    "\n",
    "# Set notebook style in HTML\n",
    "from IPython.core.display import display, HTML\n",
    "display(HTML(\"<style>.container { width:80% !important; }</style>\"))"
   ]
  },
  {
   "cell_type": "markdown",
   "metadata": {},
   "source": [
    "**Dataset** was already collected, one should collect dataset that meet conditions described above"
   ]
  },
  {
   "cell_type": "markdown",
   "metadata": {},
   "source": [
    "Dataset is supposed to have the following columns:\n",
    "- *class_name*: str\n",
    "- *obj_id* - id of one item. Unique for single image classification. Images of the same object must have the same *obj_id* (for multi image classification)\n",
    "- *img_path*: str - path to image\n",
    "- *target*: int - encoding of classes\n",
    "\n"
   ]
  },
  {
   "cell_type": "markdown",
   "metadata": {},
   "source": [
    "In out case there are 2 images per one gem (from 2 cameras)  \n",
    "We are going to train model on independent images and then aggregate results over **obj_ids**"
   ]
  },
  {
   "cell_type": "code",
   "execution_count": 36,
   "metadata": {},
   "outputs": [
    {
     "name": "stdout",
     "output_type": "stream",
     "text": [
      "C:\\Users\\getbb\\Documents\\classification_pipeline\\notebooks\\example_experiments\n"
     ]
    }
   ],
   "source": [
    "cwd = os.getcwd()\n",
    "print(cwd)"
   ]
  },
  {
   "cell_type": "code",
   "execution_count": 37,
   "metadata": {},
   "outputs": [
    {
     "name": "stdout",
     "output_type": "stream",
     "text": [
      "Ожидайте ,оформируется csv.файл\n",
      ".csv Файл успешно создан по адресу C:/Users/getbb/Documents/classification_pipeline/samples/full.csv\n"
     ]
    }
   ],
   "source": [
    "path='C:/Users/getbb/Documents/classification_pipeline/images/my_dataset/'\n",
    "classnames=[]\n",
    "def forming_csv(path) :\n",
    "    global classnames\n",
    "    classnames=[]\n",
    "    print('Ожидайте ,оформируется csv.файл')\n",
    "    with open(\"C:/Users/getbb/Documents/classification_pipeline/samples/full.csv\", mode=\"w\", encoding='utf-8') as w_file :\n",
    "            file_writer = csv.writer(w_file, delimiter = \",\", lineterminator=\"\\r\")\n",
    "            file_writer.writerow([\"obj_id\",\"class_name\", \"img_path\", \"target\"])\n",
    "            i=0\n",
    "            j=-1\n",
    "            for foldername in os.listdir(path): \n",
    "                classname=foldername\n",
    "                for names in glob.glob(os.path.join(path+'/'+foldername, '*.jpg')):\n",
    "                    names=names.replace(\"\\\\\",'/')\n",
    "                    if classname in classnames :\n",
    "                        file_writer.writerow([i,classname,names,j])\n",
    "                    else :\n",
    "                        classnames.append(classname)\n",
    "                        j+=1\n",
    "                        file_writer.writerow([i,classname,names,j])\n",
    "                    i+=1\n",
    "    print('.csv Файл успешно создан по адресу','C:/Users/getbb/Documents/classification_pipeline/samples/full.csv')\n",
    "    images = pd.read_csv('C:/Users/getbb/Documents/classification_pipeline/samples/full.csv')\n",
    "    return images\n",
    "images = forming_csv('C:/Users/getbb/Documents/classification_pipeline/images/my_dataset/')"
   ]
  },
  {
   "cell_type": "code",
   "execution_count": 38,
   "metadata": {},
   "outputs": [],
   "source": [
    "def find_face():\n",
    "    cascadePath = cv2.data.haarcascades + \"haarcascade_frontalface_default.xml\"\n",
    "    faceCascade = cv2.CascadeClassifier(cascadePath)\n",
    "    for i in range (len(images)):\n",
    "        img = cv2.imread(images['img_path'][i])\n",
    "        gray = cv2.cvtColor(img, cv2.COLOR_BGR2GRAY)\n",
    "        faces = faceCascade.detectMultiScale(gray,  scaleFactor=1.2, minNeighbors=5,minSize=(20, 20)  )\n",
    "        if (len(faces)>0) :\n",
    "            for (x, y, w, h) in faces:\n",
    "                face=gray[y: y + h, x: x + w]\n",
    "                resize_face=cv2.resize(face, (224,224))\n",
    "                path=\"onlyfaces/\"+str(i)+\".jpg\"\n",
    "                isWritten =cv2.imwrite(path,resize_face)\n",
    "                images['img_path'][i]=path\n",
    "    return\n",
    "find_face()\n"
   ]
  },
  {
   "cell_type": "markdown",
   "metadata": {},
   "source": [
    "# Load data"
   ]
  },
  {
   "cell_type": "markdown",
   "metadata": {},
   "source": [
    "Загружаем датасеты с разметкой"
   ]
  },
  {
   "cell_type": "code",
   "execution_count": 6,
   "metadata": {},
   "outputs": [
    {
     "data": {
      "text/html": [
       "<div>\n",
       "<style scoped>\n",
       "    .dataframe tbody tr th:only-of-type {\n",
       "        vertical-align: middle;\n",
       "    }\n",
       "\n",
       "    .dataframe tbody tr th {\n",
       "        vertical-align: top;\n",
       "    }\n",
       "\n",
       "    .dataframe thead th {\n",
       "        text-align: right;\n",
       "    }\n",
       "</style>\n",
       "<table border=\"1\" class=\"dataframe\">\n",
       "  <thead>\n",
       "    <tr style=\"text-align: right;\">\n",
       "      <th></th>\n",
       "      <th>obj_id</th>\n",
       "      <th>class_name</th>\n",
       "      <th>img_path</th>\n",
       "      <th>target</th>\n",
       "    </tr>\n",
       "  </thead>\n",
       "  <tbody>\n",
       "    <tr>\n",
       "      <th>0</th>\n",
       "      <td>0</td>\n",
       "      <td>Albov_NA</td>\n",
       "      <td>C:/Users/getbb/Documents/classification_pipeli...</td>\n",
       "      <td>0</td>\n",
       "    </tr>\n",
       "    <tr>\n",
       "      <th>1</th>\n",
       "      <td>1</td>\n",
       "      <td>Albov_NA</td>\n",
       "      <td>onlyfaces/1.jpg</td>\n",
       "      <td>0</td>\n",
       "    </tr>\n",
       "    <tr>\n",
       "      <th>2</th>\n",
       "      <td>2</td>\n",
       "      <td>Albov_NA</td>\n",
       "      <td>C:/Users/getbb/Documents/classification_pipeli...</td>\n",
       "      <td>0</td>\n",
       "    </tr>\n",
       "    <tr>\n",
       "      <th>3</th>\n",
       "      <td>3</td>\n",
       "      <td>Albov_NA</td>\n",
       "      <td>C:/Users/getbb/Documents/classification_pipeli...</td>\n",
       "      <td>0</td>\n",
       "    </tr>\n",
       "    <tr>\n",
       "      <th>4</th>\n",
       "      <td>4</td>\n",
       "      <td>Albov_NA</td>\n",
       "      <td>C:/Users/getbb/Documents/classification_pipeli...</td>\n",
       "      <td>0</td>\n",
       "    </tr>\n",
       "  </tbody>\n",
       "</table>\n",
       "</div>"
      ],
      "text/plain": [
       "   obj_id class_name                                           img_path  \\\n",
       "0       0   Albov_NA  C:/Users/getbb/Documents/classification_pipeli...   \n",
       "1       1   Albov_NA                                    onlyfaces/1.jpg   \n",
       "2       2   Albov_NA  C:/Users/getbb/Documents/classification_pipeli...   \n",
       "3       3   Albov_NA  C:/Users/getbb/Documents/classification_pipeli...   \n",
       "4       4   Albov_NA  C:/Users/getbb/Documents/classification_pipeli...   \n",
       "\n",
       "   target  \n",
       "0       0  \n",
       "1       0  \n",
       "2       0  \n",
       "3       0  \n",
       "4       0  "
      ]
     },
     "execution_count": 6,
     "metadata": {},
     "output_type": "execute_result"
    }
   ],
   "source": [
    "images.head()"
   ]
  },
  {
   "cell_type": "code",
   "execution_count": 7,
   "metadata": {},
   "outputs": [
    {
     "name": "stdout",
     "output_type": "stream",
     "text": [
      "{'experiment_param': {'name': 'classification_classic',\n",
      "                      'path_save': '../../experiments',\n",
      "                      'path_tensorboard': '../../experiments/tensorboard',\n",
      "                      'seed': 50},\n",
      " 'train_param': {'batch_size': 20,\n",
      "                 'cuda_number': 1,\n",
      "                 'lr': 1e-05,\n",
      "                 'num_epochs': 12,\n",
      "                 'num_workers': 8,\n",
      "                 'use_balanced_weights': True}}\n"
     ]
    }
   ],
   "source": [
    "config_path = '../../configs/classification.yaml'\n",
    "config = load_yaml(config_path)\n",
    "\n",
    "config['train_param']['cuda_number'] = 1 # put None to use cpu\n",
    "config[\"train_param\"]['num_epochs'] = 12\n",
    "config[\"train_param\"][\"batch_size\"] = 20\n",
    "config['experiment_param']['name'] = 'classification_classic'\n",
    "\n",
    "\n",
    "pp(config)"
   ]
  },
  {
   "cell_type": "code",
   "execution_count": 8,
   "metadata": {},
   "outputs": [
    {
     "name": "stdout",
     "output_type": "stream",
     "text": [
      "classification_classic\n",
      "Path for save experiment_name : ../../experiments\\classification_classic\n"
     ]
    }
   ],
   "source": [
    "SEED = 15\n",
    "\n",
    "experiment_name = config['experiment_param']['name']\n",
    "print(experiment_name)\n",
    "try:\n",
    "    seed = config['experiment_param']['seed']\n",
    "except KeyError:\n",
    "    seed = SEED\n",
    "\n",
    "path_to_save_exp = os.path.join(config['experiment_param']['path_save'], experiment_name)\n",
    "\n",
    "print(f'Path for save experiment_name : {path_to_save_exp}')"
   ]
  },
  {
   "cell_type": "markdown",
   "metadata": {},
   "source": [
    "## Полносвязная нейронная Сеть"
   ]
  },
  {
   "cell_type": "markdown",
   "metadata": {},
   "source": [
    "Создаем тренировочный и тестировочный наборы,,делаем картинки черно-белыми ,нормализуем данные"
   ]
  },
  {
   "cell_type": "code",
   "execution_count": 43,
   "metadata": {},
   "outputs": [
    {
     "name": "stdout",
     "output_type": "stream",
     "text": [
      "(834, 224, 224)\n"
     ]
    }
   ],
   "source": [
    "def load_and_split_data(data) :\n",
    "    x_train=[]  \n",
    "    y_train=[]\n",
    "    x_test=[]\n",
    "    y_test=[]\n",
    "    seed=10\n",
    "    gems = images.groupby(['obj_id'])['target'].first().reset_index()\n",
    "    train_gems, test_gems = train_test_split(gems, stratify=gems['target'], test_size=0.16, random_state=seed)\n",
    "    for i in range (len(images)):\n",
    "        img = cv2.imread(images['img_path'][i])\n",
    "        gray = cv2.cvtColor(img, cv2.COLOR_BGR2GRAY)\n",
    "        if(gray.shape[0]!=224) :\n",
    "            continue\n",
    "        if images['obj_id'][i] in train_gems['obj_id'] :\n",
    "            x_train.append(gray)\n",
    "            y_train.append(images['target'][i])\n",
    "        else :\n",
    "            x_test.append(gray)\n",
    "            y_test.append(images['target'][i])\n",
    "    return(np.asarray(x_train),np.asarray(y_train),np.asarray(x_test),np.asarray(y_test))\n",
    "def as_row_matrix (X):\n",
    "    if len (X) == 0:\n",
    "        return np. array ([])\n",
    "    mat = np. empty ((0 , X [0].size ), dtype =X [0]. dtype )\n",
    "    for row in X:\n",
    "        mat = np.vstack(( mat , np.asarray( row ).reshape(1 , -1))) # 1 x r*c\n",
    "    return mat\n",
    "        \n",
    "x_train,y_train,x_test,y_test=load_and_split_data(images)\n",
    "print(x_train.shape)\n",
    "y_train = to_categorical(y_train)\n",
    "y_test = to_categorical(y_test)"
   ]
  },
  {
   "cell_type": "code",
   "execution_count": 48,
   "metadata": {},
   "outputs": [
    {
     "name": "stdout",
     "output_type": "stream",
     "text": [
      "Формируются данные...\n"
     ]
    },
    {
     "ename": "TypeError",
     "evalue": "'tuple' object is not callable",
     "output_type": "error",
     "traceback": [
      "\u001b[1;31m---------------------------------------------------------------------------\u001b[0m",
      "\u001b[1;31mTypeError\u001b[0m                                 Traceback (most recent call last)",
      "\u001b[1;32m<ipython-input-48-f88afe6d504d>\u001b[0m in \u001b[0;36m<module>\u001b[1;34m\u001b[0m\n\u001b[0;32m     35\u001b[0m     \u001b[1;32mreturn\u001b[0m \u001b[0mmat\u001b[0m\u001b[1;33m\u001b[0m\u001b[1;33m\u001b[0m\u001b[0m\n\u001b[0;32m     36\u001b[0m \u001b[0mx_train\u001b[0m\u001b[1;33m,\u001b[0m\u001b[0my_train\u001b[0m\u001b[1;33m,\u001b[0m\u001b[0mx_test\u001b[0m\u001b[1;33m,\u001b[0m\u001b[0my_test\u001b[0m\u001b[1;33m=\u001b[0m\u001b[0mload_and_split_data\u001b[0m\u001b[1;33m(\u001b[0m\u001b[0mimages\u001b[0m\u001b[1;33m)\u001b[0m\u001b[1;33m\u001b[0m\u001b[1;33m\u001b[0m\u001b[0m\n\u001b[1;32m---> 37\u001b[1;33m \u001b[0mprint\u001b[0m\u001b[1;33m(\u001b[0m\u001b[0my_train\u001b[0m\u001b[1;33m.\u001b[0m\u001b[0mshape\u001b[0m\u001b[1;33m(\u001b[0m\u001b[1;33m)\u001b[0m\u001b[1;33m)\u001b[0m\u001b[1;33m\u001b[0m\u001b[1;33m\u001b[0m\u001b[0m\n\u001b[0m",
      "\u001b[1;31mTypeError\u001b[0m: 'tuple' object is not callable"
     ]
    }
   ],
   "source": [
    "def load_and_split_data(data) :\n",
    "    print('Формируются данные...')\n",
    "    x_train=[]  \n",
    "    y_train=[]\n",
    "    x_test=[]\n",
    "    y_test=[]\n",
    "    seed=10\n",
    "    cascadePath = \"C:/Users/getbb/anaconda3/Lib/site-packages/cv2/data/haarcascade_frontalface_default.xml\"\n",
    "    faceCascade = cv2.CascadeClassifier(cascadePath)\n",
    "    gems = images.groupby(['obj_id'])['target'].first().reset_index()\n",
    "    train_gems, test_gems = train_test_split(gems, stratify=gems['target'], test_size=0.16, random_state=seed)\n",
    "    for i in range (len(images)):\n",
    "        img = cv2.imread(images['img_path'][i])\n",
    "        gray = cv2.cvtColor(img, cv2.COLOR_BGR2GRAY)\n",
    "        faces = faceCascade.detectMultiScale(gray,  scaleFactor=1.2, minNeighbors=5,minSize=(20, 20)  )\n",
    "        if images['obj_id'][i] in train_gems['obj_id'] :\n",
    "            for (x, y, w, h) in faces:\n",
    "                face=gray[y: y + h, x: x + w]\n",
    "                resize_face=cv2.resize(face, (224,224))\n",
    "                x_train.append(resize_face)\n",
    "                y_train.append(images['target'][i])\n",
    "        else :\n",
    "            for (x, y, w, h) in faces:\n",
    "                face=gray[y: y + h, x: x + w]\n",
    "                resize_face=cv2.resize(face, (224,224))\n",
    "                x_test.append(resize_face)\n",
    "                y_test.append(images['target'][i])\n",
    "    return(np.asarray(x_train),np.asarray(y_train),np.asarray(x_test),np.asarray(y_test))   \n",
    "def as_row_matrix (X):\n",
    "    if len (X) == 0:\n",
    "        return np. array ([])\n",
    "    mat = np. empty ((0 , X [0].size ), dtype =X [0]. dtype )\n",
    "    for row in X:\n",
    "        mat = np.vstack(( mat , np.asarray( row ).reshape(1 , -1))) # 1 x r*c\n",
    "    return mat\n",
    "x_train,y_train,x_test,y_test=load_and_split_data(images)\n"
   ]
  },
  {
   "cell_type": "code",
   "execution_count": 50,
   "metadata": {},
   "outputs": [
    {
     "name": "stdout",
     "output_type": "stream",
     "text": [
      "0.36595988273620605\n"
     ]
    }
   ],
   "source": [
    "time1=time.time()\n",
    "\n",
    "SVC_model = SVC(kernel= 'poly', degree = 2)\n",
    "SVC_model.fit(as_row_matrix(x_train), y_train)\n",
    "print(time.time()-time1)"
   ]
  },
  {
   "cell_type": "code",
   "execution_count": null,
   "metadata": {},
   "outputs": [],
   "source": []
  },
  {
   "cell_type": "markdown",
   "metadata": {},
   "source": [
    "Преобразует вектор класса (целые числа) в двоичную матрицу классов."
   ]
  },
  {
   "cell_type": "code",
   "execution_count": 19,
   "metadata": {},
   "outputs": [],
   "source": [
    "x_train = x_train.reshape(len(y_train), 50176)\n",
    "x_test = x_test.reshape(len(y_test), 50176)\n",
    "x_train = x_train.astype(\"float32\")/255\n",
    "x_test = x_test.astype(\"float32\")/255"
   ]
  },
  {
   "cell_type": "code",
   "execution_count": 26,
   "metadata": {
    "scrolled": true
   },
   "outputs": [
    {
     "name": "stdout",
     "output_type": "stream",
     "text": [
      "Model: \"sequential_11\"\n",
      "_________________________________________________________________\n",
      " Layer (type)                Output Shape              Param #   \n",
      "=================================================================\n",
      " dense_38 (Dense)            (None, 350)               17561950  \n",
      "                                                                 \n",
      " dense_39 (Dense)            (None, 315)               110565    \n",
      "                                                                 \n",
      " dense_40 (Dense)            (None, 280)               88480     \n",
      "                                                                 \n",
      " dense_41 (Dense)            (None, 5)                 1405      \n",
      "                                                                 \n",
      "=================================================================\n",
      "Total params: 17,762,400\n",
      "Trainable params: 17,762,400\n",
      "Non-trainable params: 0\n",
      "_________________________________________________________________\n",
      "Epoch 1/11\n",
      "27/27 - 2s - loss: 34.0897 - accuracy: 0.3153 - val_loss: 1.2766 - val_accuracy: 0.4812 - 2s/epoch - 71ms/step\n",
      "Epoch 2/11\n",
      "27/27 - 2s - loss: 0.9369 - accuracy: 0.5635 - val_loss: 0.7254 - val_accuracy: 0.6125 - 2s/epoch - 57ms/step\n",
      "Epoch 3/11\n",
      "27/27 - 2s - loss: 0.5865 - accuracy: 0.7350 - val_loss: 0.4928 - val_accuracy: 0.7625 - 2s/epoch - 56ms/step\n",
      "Epoch 4/11\n",
      "27/27 - 2s - loss: 0.4498 - accuracy: 0.8705 - val_loss: 0.4325 - val_accuracy: 0.9250 - 2s/epoch - 56ms/step\n",
      "Epoch 5/11\n",
      "27/27 - 2s - loss: 0.3797 - accuracy: 0.9365 - val_loss: 0.3474 - val_accuracy: 0.9438 - 2s/epoch - 58ms/step\n",
      "Epoch 6/11\n",
      "27/27 - 2s - loss: 0.3043 - accuracy: 0.9652 - val_loss: 0.2920 - val_accuracy: 0.9688 - 2s/epoch - 56ms/step\n",
      "Epoch 7/11\n",
      "27/27 - 2s - loss: 0.2508 - accuracy: 0.9760 - val_loss: 0.2334 - val_accuracy: 0.9750 - 2s/epoch - 56ms/step\n",
      "Epoch 8/11\n",
      "27/27 - 2s - loss: 0.2551 - accuracy: 0.9317 - val_loss: 0.1925 - val_accuracy: 0.9812 - 2s/epoch - 56ms/step\n",
      "Epoch 9/11\n",
      "27/27 - 2s - loss: 0.1876 - accuracy: 0.9832 - val_loss: 0.2034 - val_accuracy: 0.9688 - 2s/epoch - 56ms/step\n",
      "Epoch 10/11\n",
      "27/27 - 1s - loss: 0.1492 - accuracy: 0.9868 - val_loss: 0.1556 - val_accuracy: 0.9812 - 1s/epoch - 55ms/step\n",
      "Epoch 11/11\n",
      "27/27 - 2s - loss: 0.1358 - accuracy: 0.9880 - val_loss: 0.1297 - val_accuracy: 0.9812 - 2s/epoch - 56ms/step\n",
      "17.13513493537903\n"
     ]
    }
   ],
   "source": [
    "model = Sequential()\n",
    "model.add(Dense(350, input_dim=50176, activation='relu'))\n",
    "model.add(Dense(315))\n",
    "model.add(Dense(280))\n",
    "model.add(Dense(5,activation='softmax'))\n",
    "model.compile(optimizer='Adam', loss='categorical_crossentropy', metrics=['accuracy'])\n",
    "model.summary()\n",
    "time1 = time.time()\n",
    "history = model.fit(x_train, y_train, epochs=11, verbose=2, validation_data=(x_test, y_test))\n",
    "print(time.time()-time1)"
   ]
  },
  {
   "cell_type": "markdown",
   "metadata": {},
   "source": [
    "## Сверточная нейронная сеть"
   ]
  },
  {
   "cell_type": "code",
   "execution_count": 28,
   "metadata": {},
   "outputs": [],
   "source": [
    "x_train = x_train.reshape(len(y_train), 224,224,1)\n",
    "x_test = x_test.reshape(len(y_test),224,224,1)\n",
    "x_train = x_train.astype(\"float32\")\n",
    "x_test = x_test.astype(\"float32\")\n",
    "x_train /= 255\n",
    "x_test /= 255"
   ]
  },
  {
   "cell_type": "code",
   "execution_count": 29,
   "metadata": {
    "scrolled": false
   },
   "outputs": [
    {
     "name": "stdout",
     "output_type": "stream",
     "text": [
      "Model: \"sequential_12\"\n",
      "_________________________________________________________________\n",
      " Layer (type)                Output Shape              Param #   \n",
      "=================================================================\n",
      " conv2d_2 (Conv2D)           (None, 222, 222, 64)      640       \n",
      "                                                                 \n",
      " max_pooling2d_2 (MaxPooling  (None, 111, 111, 64)     0         \n",
      " 2D)                                                             \n",
      "                                                                 \n",
      " flatten_2 (Flatten)         (None, 788544)            0         \n",
      "                                                                 \n",
      " dense_42 (Dense)            (None, 5)                 3942725   \n",
      "                                                                 \n",
      "=================================================================\n",
      "Total params: 3,943,365\n",
      "Trainable params: 3,943,365\n",
      "Non-trainable params: 0\n",
      "_________________________________________________________________\n",
      "Epoch 1/16\n",
      "27/27 - 16s - loss: 19.5151 - accuracy: 0.4365 - val_loss: 0.8466 - val_accuracy: 0.7625 - 16s/epoch - 581ms/step\n",
      "Epoch 2/16\n",
      "27/27 - 18s - loss: 0.2435 - accuracy: 0.9209 - val_loss: 0.0084 - val_accuracy: 1.0000 - 18s/epoch - 677ms/step\n",
      "Epoch 3/16\n",
      "27/27 - 18s - loss: 0.0103 - accuracy: 0.9988 - val_loss: 0.0029 - val_accuracy: 1.0000 - 18s/epoch - 661ms/step\n",
      "Epoch 4/16\n",
      "27/27 - 18s - loss: 0.0087 - accuracy: 0.9988 - val_loss: 0.0020 - val_accuracy: 1.0000 - 18s/epoch - 654ms/step\n",
      "Epoch 5/16\n",
      "27/27 - 17s - loss: 0.0080 - accuracy: 0.9988 - val_loss: 0.0018 - val_accuracy: 1.0000 - 17s/epoch - 639ms/step\n",
      "Epoch 6/16\n",
      "27/27 - 17s - loss: 0.0076 - accuracy: 0.9988 - val_loss: 0.0017 - val_accuracy: 1.0000 - 17s/epoch - 643ms/step\n",
      "Epoch 7/16\n",
      "27/27 - 19s - loss: 0.0068 - accuracy: 0.9988 - val_loss: 0.0015 - val_accuracy: 1.0000 - 19s/epoch - 703ms/step\n",
      "Epoch 8/16\n",
      "27/27 - 19s - loss: 0.0065 - accuracy: 0.9988 - val_loss: 0.0015 - val_accuracy: 1.0000 - 19s/epoch - 691ms/step\n",
      "Epoch 9/16\n",
      "27/27 - 19s - loss: 0.0057 - accuracy: 0.9988 - val_loss: 0.0013 - val_accuracy: 1.0000 - 19s/epoch - 705ms/step\n",
      "Epoch 10/16\n",
      "27/27 - 17s - loss: 0.0057 - accuracy: 0.9988 - val_loss: 0.0014 - val_accuracy: 1.0000 - 17s/epoch - 644ms/step\n",
      "Epoch 11/16\n",
      "27/27 - 18s - loss: 0.0046 - accuracy: 0.9988 - val_loss: 0.0013 - val_accuracy: 1.0000 - 18s/epoch - 662ms/step\n",
      "Epoch 12/16\n",
      "27/27 - 17s - loss: 0.0044 - accuracy: 0.9988 - val_loss: 0.0013 - val_accuracy: 1.0000 - 17s/epoch - 627ms/step\n",
      "Epoch 13/16\n",
      "27/27 - 17s - loss: 0.0043 - accuracy: 0.9988 - val_loss: 0.0012 - val_accuracy: 1.0000 - 17s/epoch - 639ms/step\n",
      "Epoch 14/16\n",
      "27/27 - 18s - loss: 0.0043 - accuracy: 0.9988 - val_loss: 0.0015 - val_accuracy: 1.0000 - 18s/epoch - 663ms/step\n",
      "Epoch 15/16\n",
      "27/27 - 18s - loss: 0.0028 - accuracy: 0.9988 - val_loss: 0.0010 - val_accuracy: 1.0000 - 18s/epoch - 656ms/step\n",
      "Epoch 16/16\n",
      "27/27 - 18s - loss: 0.0023 - accuracy: 1.0000 - val_loss: 8.7070e-04 - val_accuracy: 1.0000 - 18s/epoch - 663ms/step\n"
     ]
    }
   ],
   "source": [
    "model = Sequential()\n",
    "model.add(Conv2D(64, kernel_size=3, activation='elu', input_shape=(224,224,1)))\n",
    "model.add(MaxPooling2D())\n",
    "model.add(Flatten())\n",
    "model.add(Dense(5, activation='softmax'))\n",
    "model.compile(optimizer='Adam', loss='categorical_crossentropy', metrics=['accuracy'])\n",
    "model.summary()\n",
    "\n",
    "history = model.fit(x_train, y_train, epochs=16, verbose=2, validation_data=(x_test, y_test))"
   ]
  },
  {
   "cell_type": "code",
   "execution_count": 35,
   "metadata": {},
   "outputs": [
    {
     "data": {
      "image/png": "[encoded data removed]",
      "text/plain": [
       "<Figure size 432x288 with 1 Axes>"
      ]
     },
     "metadata": {
      "needs_background": "light"
     },
     "output_type": "display_data"
    }
   ],
   "source": [
    "plt.plot(history.history['accuracy'])\n",
    "plt.plot(history.history['val_accuracy'])\n",
    "plt.title('Model accuracy')\n",
    "plt.ylabel('Accuracy')\n",
    "plt.xlabel('Epoch')\n",
    "plt.legend(['Train', 'Test'], loc='upper left')\n",
    "plt.show()"
   ]
  },
  {
   "cell_type": "markdown",
   "metadata": {},
   "source": [
    "Полносвязная нейронная сеть работает с точностью 50 процентов."
   ]
  },
  {
   "cell_type": "code",
   "execution_count": 22,
   "metadata": {},
   "outputs": [
    {
     "ename": "NameError",
     "evalue": "name 'history' is not defined",
     "output_type": "error",
     "traceback": [
      "\u001b[1;31m---------------------------------------------------------------------------\u001b[0m",
      "\u001b[1;31mNameError\u001b[0m                                 Traceback (most recent call last)",
      "\u001b[1;32m<ipython-input-22-2794db1280ec>\u001b[0m in \u001b[0;36m<module>\u001b[1;34m\u001b[0m\n\u001b[1;32m----> 1\u001b[1;33m \u001b[0mplt\u001b[0m\u001b[1;33m.\u001b[0m\u001b[0mplot\u001b[0m\u001b[1;33m(\u001b[0m\u001b[0mhistory\u001b[0m\u001b[1;33m.\u001b[0m\u001b[0mhistory\u001b[0m\u001b[1;33m[\u001b[0m\u001b[1;34m'acc'\u001b[0m\u001b[1;33m]\u001b[0m\u001b[1;33m)\u001b[0m\u001b[1;33m\u001b[0m\u001b[1;33m\u001b[0m\u001b[0m\n\u001b[0m\u001b[0;32m      2\u001b[0m \u001b[0mplt\u001b[0m\u001b[1;33m.\u001b[0m\u001b[0mplot\u001b[0m\u001b[1;33m(\u001b[0m\u001b[0mhistory\u001b[0m\u001b[1;33m.\u001b[0m\u001b[0mhistory\u001b[0m\u001b[1;33m[\u001b[0m\u001b[1;34m'val_acc'\u001b[0m\u001b[1;33m]\u001b[0m\u001b[1;33m)\u001b[0m\u001b[1;33m\u001b[0m\u001b[1;33m\u001b[0m\u001b[0m\n\u001b[0;32m      3\u001b[0m \u001b[0mplt\u001b[0m\u001b[1;33m.\u001b[0m\u001b[0mtitle\u001b[0m\u001b[1;33m(\u001b[0m\u001b[1;34m'Model accuracy'\u001b[0m\u001b[1;33m)\u001b[0m\u001b[1;33m\u001b[0m\u001b[1;33m\u001b[0m\u001b[0m\n\u001b[0;32m      4\u001b[0m \u001b[0mplt\u001b[0m\u001b[1;33m.\u001b[0m\u001b[0mylabel\u001b[0m\u001b[1;33m(\u001b[0m\u001b[1;34m'Accuracy'\u001b[0m\u001b[1;33m)\u001b[0m\u001b[1;33m\u001b[0m\u001b[1;33m\u001b[0m\u001b[0m\n\u001b[0;32m      5\u001b[0m \u001b[0mplt\u001b[0m\u001b[1;33m.\u001b[0m\u001b[0mxlabel\u001b[0m\u001b[1;33m(\u001b[0m\u001b[1;34m'Epoch'\u001b[0m\u001b[1;33m)\u001b[0m\u001b[1;33m\u001b[0m\u001b[1;33m\u001b[0m\u001b[0m\n",
      "\u001b[1;31mNameError\u001b[0m: name 'history' is not defined"
     ]
    }
   ],
   "source": [
    "plt.plot(history.history['acc'])\n",
    "plt.plot(history.history['val_acc'])\n",
    "plt.title('Model accuracy')\n",
    "plt.ylabel('Accuracy')\n",
    "plt.xlabel('Epoch')\n",
    "plt.legend(['Train', 'Test'], loc='upper left')\n",
    "plt.show()"
   ]
  },
  {
   "cell_type": "code",
   "execution_count": 166,
   "metadata": {},
   "outputs": [
    {
     "data": {
      "text/plain": [
       "'onlyfaces/0.jpg'"
      ]
     },
     "execution_count": 166,
     "metadata": {},
     "output_type": "execute_result"
    }
   ],
   "source": [
    "images['img_path'].iloc[0]"
   ]
  },
  {
   "cell_type": "code",
   "execution_count": 167,
   "metadata": {},
   "outputs": [
    {
     "data": {
      "text/plain": [
       "array(['Colin_Powell', 'Donald_Rumsfeld', 'George_W_Bush',\n",
       "       'Gerhard_Schroeder', 'Hugo_Chavez', 'Junichiro_Koizumi'],\n",
       "      dtype=object)"
      ]
     },
     "execution_count": 167,
     "metadata": {},
     "output_type": "execute_result"
    }
   ],
   "source": [
    "images.class_name.unique()"
   ]
  },
  {
   "cell_type": "code",
   "execution_count": 168,
   "metadata": {
    "scrolled": true
   },
   "outputs": [
    {
     "name": "stdout",
     "output_type": "stream",
     "text": [
      "[[[128 128 128]\n",
      "  [129 129 129]\n",
      "  [130 130 130]\n",
      "  ...\n",
      "  [ 84  84  84]\n",
      "  [ 87  87  87]\n",
      "  [ 90  90  90]]\n",
      "\n",
      " [[129 129 129]\n",
      "  [129 129 129]\n",
      "  [130 130 130]\n",
      "  ...\n",
      "  [ 87  87  87]\n",
      "  [ 89  89  89]\n",
      "  [ 91  91  91]]\n",
      "\n",
      " [[126 126 126]\n",
      "  [127 127 127]\n",
      "  [128 128 128]\n",
      "  ...\n",
      "  [ 92  92  92]\n",
      "  [ 93  93  93]\n",
      "  [ 94  94  94]]\n",
      "\n",
      " ...\n",
      "\n",
      " [[ 22  22  22]\n",
      "  [ 22  22  22]\n",
      "  [ 22  22  22]\n",
      "  ...\n",
      "  [ 19  19  19]\n",
      "  [ 18  18  18]\n",
      "  [ 18  18  18]]\n",
      "\n",
      " [[ 22  22  22]\n",
      "  [ 22  22  22]\n",
      "  [ 22  22  22]\n",
      "  ...\n",
      "  [ 19  19  19]\n",
      "  [ 18  18  18]\n",
      "  [ 18  18  18]]\n",
      "\n",
      " [[ 22  22  22]\n",
      "  [ 22  22  22]\n",
      "  [ 22  22  22]\n",
      "  ...\n",
      "  [ 18  18  18]\n",
      "  [ 18  18  18]\n",
      "  [ 19  19  19]]]\n"
     ]
    }
   ],
   "source": [
    "images.head()\n",
    "img = cv2.imread(images['img_path'][0])\n",
    "print(img)"
   ]
  },
  {
   "cell_type": "code",
   "execution_count": 24,
   "metadata": {},
   "outputs": [
    {
     "name": "stdout",
     "output_type": "stream",
     "text": [
      "Split shapes for train / val / test: 1364 / 241 / 284 \n",
      "\n",
      "Preprocessing stage is finished.\n"
     ]
    },
    {
     "data": {
      "image/png": "[encoded data removed]",
      "text/plain": [
       "<Figure size 1080x360 with 3 Axes>"
      ]
     },
     "metadata": {
      "needs_background": "light"
     },
     "output_type": "display_data"
    }
   ],
   "source": [
    "seed = 115\n",
    "# split by obj_id STRATIFY\n",
    "gems = images.groupby(['obj_id'])['target'].first().reset_index()\n",
    "\n",
    "train_gems, test_gems = train_test_split(gems, stratify=gems['target'], test_size=0.15, random_state=seed)\n",
    "train_gems, val_gems = train_test_split(train_gems, stratify=train_gems['target'], test_size=0.15, random_state=seed)\n",
    "\n",
    "i=0\n",
    "for x in train_gems['target']:\n",
    "    if x== 0:\n",
    "        i+=1\n",
    "train_gems = train_gems['obj_id'].values\n",
    "val_gems = val_gems['obj_id'].values\n",
    "test_gems = test_gems['obj_id'].values\n",
    "\n",
    "train = images[images['obj_id'].isin(train_gems)].reset_index(drop=True)\n",
    "val = images[images['obj_id'].isin(val_gems)].reset_index(drop=True)\n",
    "test = images[images['obj_id'].isin(test_gems)].reset_index(drop=True)\n",
    "\n",
    "print(f'Split shapes for train / val / test: {train.shape[0]} / {val.shape[0]} / {test.shape[0]} \\n')\n",
    "fig, axs = plt.subplots(1, 3)\n",
    "fig.set_figheight(5)\n",
    "fig.set_figwidth(15)\n",
    "\n",
    "train_cls_ratio = train['target'].value_counts().sort_index() / len(train)\n",
    "val_cls_ratio = val['target'].value_counts().sort_index() / len(val)\n",
    "test_cls_ratio = test['target'].value_counts().sort_index() / len(test)\n",
    "\n",
    "axs[0].bar(train_cls_ratio.index, train_cls_ratio.values)\n",
    "axs[1].bar(val_cls_ratio.index, val_cls_ratio.values)\n",
    "axs[2].bar(test_cls_ratio.index, test_cls_ratio.values)\n",
    "\n",
    "for i, split_name in enumerate(['train', 'val', 'test']):\n",
    "    axs[i].title.set_text(split_name)\n",
    "    axs[i].set_xlabel('class number')\n",
    "    axs[i].set_ylabel('class ratio')\n",
    "    \n",
    "if not os.path.exists(path_to_save_exp):\n",
    "    os.makedirs(path_to_save_exp)\n",
    "\n",
    "# save data sets\n",
    "train.to_csv(os.path.join(path_to_save_exp, 'train.csv'), index=False)\n",
    "val.to_csv(os.path.join(path_to_save_exp, 'val.csv'), index=False)\n",
    "test.to_csv(os.path.join(path_to_save_exp, 'test.csv'), index=False)\n",
    "\n",
    "save_yaml({'class_names': classnames}, os.path.join(path_to_save_exp, 'metadata.yaml'))\n",
    "print('Preprocessing stage is finished.')"
   ]
  },
  {
   "cell_type": "code",
   "execution_count": 25,
   "metadata": {},
   "outputs": [
    {
     "data": {
      "text/plain": [
       "5    417\n",
       "4    242\n",
       "2    236\n",
       "6    211\n",
       "1    200\n",
       "3    200\n",
       "7    200\n",
       "0    183\n",
       "Name: target, dtype: int64"
      ]
     },
     "execution_count": 25,
     "metadata": {},
     "output_type": "execute_result"
    }
   ],
   "source": [
    "images.target.value_counts()"
   ]
  },
  {
   "cell_type": "code",
   "execution_count": 26,
   "metadata": {},
   "outputs": [
    {
     "data": {
      "text/plain": [
       "<AxesSubplot:>"
      ]
     },
     "execution_count": 26,
     "metadata": {},
     "output_type": "execute_result"
    },
    {
     "data": {
      "image/png": "[encoded data removed]",
      "text/plain": [
       "<Figure size 432x288 with 1 Axes>"
      ]
     },
     "metadata": {
      "needs_background": "light"
     },
     "output_type": "display_data"
    }
   ],
   "source": [
    "images.class_name.hist(bins=7)"
   ]
  },
  {
   "cell_type": "markdown",
   "metadata": {},
   "source": [
    "# Train model"
   ]
  },
  {
   "cell_type": "code",
   "execution_count": 27,
   "metadata": {},
   "outputs": [
    {
     "name": "stdout",
     "output_type": "stream",
     "text": [
      "Experiment path: \t ../../experiments/classification_classic\n"
     ]
    }
   ],
   "source": [
    "experiment_folder_path = path_to_save_exp\n",
    "print('Experiment path: \\t', experiment_folder_path)"
   ]
  },
  {
   "cell_type": "code",
   "execution_count": 28,
   "metadata": {},
   "outputs": [
    {
     "data": {
      "text/plain": [
       "8"
      ]
     },
     "execution_count": 28,
     "metadata": {},
     "output_type": "execute_result"
    }
   ],
   "source": [
    "images.target.nunique()"
   ]
  },
  {
   "cell_type": "code",
   "execution_count": 29,
   "metadata": {},
   "outputs": [
    {
     "name": "stdout",
     "output_type": "stream",
     "text": [
      "metadata.yaml  model  results  test.csv  train.csv  val.csv\n"
     ]
    }
   ],
   "source": [
    "!ls $experiment_folder_path"
   ]
  },
  {
   "cell_type": "code",
   "execution_count": 30,
   "metadata": {},
   "outputs": [
    {
     "name": "stderr",
     "output_type": "stream",
     "text": [
      "Downloading: \"https://download.pytorch.org/models/resnet50-0676ba61.pth\" to /home/jovyan/.cache/torch/hub/checkpoints/resnet50-0676ba61.pth\n"
     ]
    },
    {
     "data": {
      "application/vnd.jupyter.widget-view+json": {
       "model_id": "a98a2679653446d6aeb28c72cdf93bc5",
       "version_major": 2,
       "version_minor": 0
      },
      "text/plain": [
       "  0%|          | 0.00/97.8M [00:00<?, ?B/s]"
      ]
     },
     "metadata": {},
     "output_type": "display_data"
    }
   ],
   "source": [
    "#Model = EfficientnetB3Pretrained(num_classes=images.target.nunique())\n",
    "Model = ResNet50(num_classes=images.target.nunique())\n",
    "Trainer = TrainerSeparate\n",
    "Collection = CollectionSeparate\n",
    "\n",
    "criterion = torch.nn.MSELoss\n",
    "optimizer = torch.optim.Adam"
   ]
  },
  {
   "cell_type": "code",
   "execution_count": 31,
   "metadata": {},
   "outputs": [
    {
     "data": {
      "text/plain": [
       "array([0, 1, 2, 3, 4, 5, 6, 7])"
      ]
     },
     "execution_count": 31,
     "metadata": {},
     "output_type": "execute_result"
    }
   ],
   "source": [
    "images.target.unique()"
   ]
  },
  {
   "cell_type": "code",
   "execution_count": 32,
   "metadata": {},
   "outputs": [
    {
     "data": {
      "text/plain": [
       "'../../experiments/classification_classic'"
      ]
     },
     "execution_count": 32,
     "metadata": {},
     "output_type": "execute_result"
    }
   ],
   "source": [
    "experiment_folder_path"
   ]
  },
  {
   "cell_type": "code",
   "execution_count": null,
   "metadata": {},
   "outputs": [],
   "source": [
    "best_epoch = train_model(\n",
    "    Model,\n",
    "    Trainer,\n",
    "    Collection,\n",
    "    criterion,\n",
    "    optimizer,\n",
    "    config,\n",
    "    experiment_folder_path,\n",
    "    epoch_to_load=None\n",
    ")"
   ]
  },
  {
   "cell_type": "code",
   "execution_count": 25,
   "metadata": {},
   "outputs": [
    {
     "data": {
      "text/plain": [
       "9"
      ]
     },
     "execution_count": 25,
     "metadata": {},
     "output_type": "execute_result"
    }
   ],
   "source": [
    "best_epoch"
   ]
  },
  {
   "cell_type": "code",
   "execution_count": 26,
   "metadata": {},
   "outputs": [
    {
     "data": {
      "text/plain": [
       "src.collection.collection_sep.CollectionSeparate"
      ]
     },
     "execution_count": 26,
     "metadata": {},
     "output_type": "execute_result"
    }
   ],
   "source": [
    "Collection"
   ]
  },
  {
   "cell_type": "markdown",
   "metadata": {},
   "source": [
    "## Scenario 2"
   ]
  },
  {
   "cell_type": "markdown",
   "metadata": {},
   "source": [
    "На обычном трейн тест сплите"
   ]
  },
  {
   "cell_type": "code",
   "execution_count": 177,
   "metadata": {},
   "outputs": [
    {
     "data": {
      "text/plain": [
       "11"
      ]
     },
     "execution_count": 177,
     "metadata": {},
     "output_type": "execute_result"
    }
   ],
   "source": [
    "best_epoch"
   ]
  },
  {
   "cell_type": "code",
   "execution_count": null,
   "metadata": {},
   "outputs": [],
   "source": []
  },
  {
   "cell_type": "code",
   "execution_count": 178,
   "metadata": {},
   "outputs": [
    {
     "name": "stdout",
     "output_type": "stream",
     "text": [
      "Starting model validation stage on test.csv set...\n"
     ]
    },
    {
     "name": "stderr",
     "output_type": "stream",
     "text": [
      "100%|████████████████████████████████████████████████████████████████████████████████████| 7/7 [00:14<00:00,  2.07s/it]\n"
     ]
    },
    {
     "name": "stdout",
     "output_type": "stream",
     "text": [
      "Accuracy:  0.904\n",
      "Precision:  0.9168317460317461\n",
      "Recall:  0.904\n",
      "Class. report:\n",
      "                    precision    recall  f1-score   support\n",
      "\n",
      "     Colin_Powell       0.96      0.87      0.92        31\n",
      "  Donald_Rumsfeld       0.89      0.94      0.91        17\n",
      "    George_W_Bush       1.00      0.90      0.95        42\n",
      "Gerhard_Schroeder       0.70      0.88      0.78        16\n",
      "      Hugo_Chavez       0.91      0.91      0.91        11\n",
      "Junichiro_Koizumi       0.80      1.00      0.89         8\n",
      "\n",
      "         accuracy                           0.90       125\n",
      "        macro avg       0.88      0.92      0.89       125\n",
      "     weighted avg       0.92      0.90      0.91       125\n",
      "\n"
     ]
    },
    {
     "data": {
      "image/png": "[encoded data removed]",
      "text/plain": [
       "<Figure size 720x504 with 2 Axes>"
      ]
     },
     "metadata": {
      "needs_background": "light"
     },
     "output_type": "display_data"
    },
    {
     "name": "stdout",
     "output_type": "stream",
     "text": [
      "Conf. matrix:\n",
      " [[27  1  0  3  0  0]\n",
      " [ 1 16  0  0  0  0]\n",
      " [ 0  0 38  2  0  2]\n",
      " [ 0  1  0 14  1  0]\n",
      " [ 0  0  0  1 10  0]\n",
      " [ 0  0  0  0  0  8]]\n",
      "Model evaluation is finished.\n"
     ]
    }
   ],
   "source": [
    "Model = ResNet50(num_classes=images.target.nunique())\n",
    "Collection = CollectionSeparate\n",
    "\n",
    "pred, results = evaluate_model(\n",
    "    Model,\n",
    "    Collection,\n",
    "    experiment_folder_path, \n",
    "    'test', \n",
    "    config,\n",
    "    best_epoch, \n",
    ")"
   ]
  },
  {
   "cell_type": "code",
   "execution_count": null,
   "metadata": {},
   "outputs": [],
   "source": []
  }
 ],
 "metadata": {
  "kernelspec": {
   "display_name": "Python 3",
   "language": "python",
   "name": "python3"
  },
  "language_info": {
   "codemirror_mode": {
    "name": "ipython",
    "version": 3
   },
   "file_extension": ".py",
   "mimetype": "text/x-python",
   "name": "python",
   "nbconvert_exporter": "python",
   "pygments_lexer": "ipython3",
   "version": "3.8.3"
  },
  "toc": {
   "base_numbering": 1,
   "nav_menu": {},
   "number_sections": true,
   "sideBar": true,
   "skip_h1_title": false,
   "title_cell": "Table of Contents",
   "title_sidebar": "Contents",
   "toc_cell": false,
   "toc_position": {
    "height": "calc(100% - 180px)",
    "left": "10px",
    "top": "150px",
    "width": "235.625px"
   },
   "toc_section_display": true,
   "toc_window_display": true
  }
 },
 "nbformat": 4,
 "nbformat_minor": 4
}
