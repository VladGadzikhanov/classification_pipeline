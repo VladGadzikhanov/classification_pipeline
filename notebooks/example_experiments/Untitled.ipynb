{
 "cells": [
  {
   "cell_type": "code",
   "execution_count": 1,
   "metadata": {},
   "outputs": [],
   "source": [
    "# Imports\n",
    "import time\n",
    "import re\n",
    "from tqdm import tqdm\n",
    "import os\n",
    "import sys\n",
    "import math\n",
    "from sklearn.model_selection import cross_validate\n",
    "from pprint import pprint as pp\n",
    "import time\n",
    "import pandas as pd\n",
    "import numpy as np\n",
    "from PIL import Image\n",
    "import cv2\n",
    "import csv\n",
    "import torch\n",
    "from torch import nn\n",
    "from torch.nn import functional as F\n",
    "from torch.utils.data import DataLoader, Dataset\n",
    "from sklearn.model_selection import train_test_split\n",
    "from tensorflow.keras.utils import to_categorical\n",
    "from keras.models import Sequential\n",
    "from keras.layers import Dense, Conv2D, Flatten,Dropout ,MaxPooling2D, BatchNormalization\n",
    "import matplotlib.pyplot as plt\n",
    "import matplotlib.pyplot as plt\n",
    "import seaborn as sns\n",
    "import glob\n",
    "from sklearn.metrics import accuracy_score ,precision_score,confusion_matrix, recall_score\n",
    "sys.path.append('../..') #add root directory of project to import needed modules\n",
    "\n",
    "from src.train_model import train_model\n",
    "from src.evaluate_model import evaluate_model\n",
    "from src.utils.general import load_yaml, save_yaml\n",
    "from src.utils.metrics import compute_metrics\n",
    "from src.utils.pipeline import load_model, build_data_loader, freeze_layers\n",
    "from src.utils.post_processing import aggregate_detailed_classes, aggregate_obj_results\n",
    "from src.analysis.mistakes import show_mistakes_by_target, show_mistakes_by_pred, plot_proba_distr\n",
    "from IPython.display import clear_output\n",
    "\n",
    "from src.collection import CollectionAttention, CollectionSeparate\n",
    "from src.models.densenet import densenet121, DenseNetAttn\n",
    "from src.models.efficeintnet import EfficientnetB3AttnPretrained, EfficientnetB3Pretrained, EfficientnetB3\n",
    "from src.models.mobilenet import MobileNetV2_\n",
    "from src.models.resnet import ResNet50\n",
    "from src.train import TrainerAttention, TrainerSeparate\n",
    "\n",
    "from etc.alrosa.utils import get_values\n",
    "from sklearn.svm import SVC\n",
    "import ipywidgets as widgets\n",
    "from IPython.display import display, clear_output\n",
    "from ipyfilechooser import FileChooser\n",
    " # Disable warnings print\n",
    "import warnings\n",
    "warnings.filterwarnings('ignore')\n",
    "\n",
    "%matplotlib inline"
   ]
  },
  {
   "cell_type": "code",
   "execution_count": 2,
   "metadata": {},
   "outputs": [],
   "source": [
    "def create_buttons():\n",
    "    global path\n",
    "    buttons=[]\n",
    "    for foldername in os.listdir(path): \n",
    "            button1 = widgets.Button(description=str(foldername), \n",
    "                        button_style='success',\n",
    "                                     layout=widgets.Layout(width='100px', height='80px')\n",
    "                        )\n",
    "            buttons.append(button1)         \n",
    "    return buttons\n",
    "layout_hidden  = widgets.Layout(visibility = 'hidden')\n",
    "def on_y_clicked(b) :\n",
    "    global path ,desc ,images\n",
    "    path+='/'+desc\n",
    "    clear_output(wait=True)\n",
    "    print('Датасет успешно выбран.')\n",
    "    images=forming_csv(path)\n",
    "def on_n_clicked(b) :\n",
    "    clear_output(wait=True)\n",
    "    print('Перезапустите модуль')\n",
    "def button_learn_click(b):\n",
    "    start_learning_menu()"
   ]
  },
  {
   "cell_type": "code",
   "execution_count": 3,
   "metadata": {},
   "outputs": [],
   "source": [
    "def start_menu():\n",
    "    clear_output(wait=True)\n",
    "    global path,model\n",
    "    print('Путь к датасету', path)\n",
    "    if(model) :\n",
    "        print('Обученная модель существует')\n",
    "        button_def = widgets.Button(description='Перейти к распознаванию', \n",
    "                        button_style='success' # 'success', 'info', 'warning', 'danger', ''\n",
    "                    )\n",
    "        display(button_def)\n",
    "        button_def.on_click(skip_learning)\n",
    "    else :\n",
    "        print('Обученной модели нет')\n",
    "    button_learn = widgets.Button(description='Обучить программу', \n",
    "                        button_style='success' # 'success', 'info', 'warning', 'danger', ''\n",
    "                    )\n",
    "    display(button_learn)\n",
    "    button_learn.on_click(button_learn_click)"
   ]
  },
  {
   "cell_type": "code",
   "execution_count": 4,
   "metadata": {},
   "outputs": [],
   "source": [
    "def on_button_clicked(b): \n",
    "    global path ,desc\n",
    "    temp_path='C:/Users/getbb/Documents/classification_pipeline/images'\n",
    "    desc = b.description\n",
    "    temp_path+='/'+str(b.description)\n",
    "    j=0\n",
    "    pic_box = plt.figure(figsize=(16,4))\n",
    "    for foldername in os.listdir(temp_path): \n",
    "        i=0\n",
    "        for names in glob.glob(os.path.join(temp_path+'/'+foldername, '*.jpg')):\n",
    "            names=names.replace(\"\\\\\",'/')\n",
    "            if i==0 :\n",
    "                image = cv2.imread(names)\n",
    "                pic_box.add_subplot(2,5,j+1)\n",
    "                j+=1\n",
    "                plt.imshow(image)\n",
    "                i+=1\n",
    "    plt.show()\n",
    "    print('Это желаемый датасет?')\n",
    "    button3 = widgets.Button(description='Да', \n",
    "                        button_style='success' # 'success', 'info', 'warning', 'danger', ''\n",
    "                        )\n",
    "    button4 = widgets.Button(description='Нет', \n",
    "                        button_style='danger' # 'success', 'info', 'warning', 'danger', ''\n",
    "                        )\n",
    "    button3.on_click(on_y_clicked)\n",
    "    button4.on_click(on_n_clicked)\n",
    "    display(button3)\n",
    "    display(button4)\n",
    "def start_learning_menu() :\n",
    "    print('Выберите датасет')\n",
    "    buttons = create_buttons()\n",
    "    for i in range(len(buttons)):\n",
    "        display(buttons[i])\n",
    "        buttons[i].on_click(on_button_clicked)\n",
    "    return\n"
   ]
  },
  {
   "cell_type": "code",
   "execution_count": 5,
   "metadata": {},
   "outputs": [],
   "source": [
    "def click_b(b):\n",
    "    clear_output(wait=True)\n",
    "    learn_and_options()"
   ]
  },
  {
   "cell_type": "code",
   "execution_count": 6,
   "metadata": {},
   "outputs": [],
   "source": [
    "def on_radio_choose(b):\n",
    "    global method\n",
    "    method = b['new']\n",
    "def choose_method_menu() :\n",
    "    print('Выберите метод распознавания :')\n",
    "    radio=widgets.RadioButtons(\n",
    "    options=['Метод опорных векторов','Полносвязная Нейронная Сеть', 'Сверточная Нейронная Сеть', 'ResNet50'],\n",
    "    description=':',\n",
    "    disabled=False)\n",
    "    button = widgets.Button(description='Выбрать метод', \n",
    "                        button_style='success' # 'success', 'info', 'warning', 'danger', ''\n",
    "                        )\n",
    "    radio.observe(on_radio_choose, names='value')\n",
    "    display(radio)\n",
    "    button.on_click(click_b)\n",
    "    display(button)\n",
    "    "
   ]
  },
  {
   "cell_type": "code",
   "execution_count": 7,
   "metadata": {},
   "outputs": [],
   "source": [
    "def save_settings_to_txt_file(parametrs):\n",
    "    global method\n",
    "    if method=='Метод опорных векторов' :\n",
    "        with open(\"C:/Users/getbb/Documents/classification_pipeline/model/SVC.txt\", \"w\") as file:\n",
    "            file.write(\"Kernel:\" +str(parametrs['kernel']))\n",
    "    if method=='Полносвязная Нейронная Сеть' :\n",
    "        with open(\"C:/Users/getbb/Documents/classification_pipeline/model/poln_neural_work.txt\", \"w\") as file:\n",
    "            file.write(\"optimizer:\" +str(parametrs['optimizer'])+'\\n')\n",
    "            file.write(\"loss:\" +str(parametrs['loss']))\n",
    "    if method=='Свёрточная Нейронная Сеть' :\n",
    "        with open(\"C:/Users/getbb/Documents/classification_pipeline/model/sv_neural_work.txt\", \"w\") as file:\n",
    "            file.write(\"optimizer:\" +str(parametrs['optimizer'])+'\\n')\n",
    "            file.write(\"loss:\" +str(parametrs['loss']))\n",
    "    if method=='ResNet50' :\n",
    "        with open(\"C:/Users/getbb/Documents/classification_pipeline/model/ResNet50.txt\", \"w\") as file:\n",
    "            file.write(\"optimizer:\" +str(parametrs['optimizer'])+'\\n')\n",
    "            file.write(\"loss:\" +str(parametrs['loss']))"
   ]
  },
  {
   "cell_type": "code",
   "execution_count": 8,
   "metadata": {},
   "outputs": [],
   "source": [
    "def find_face():\n",
    "    cascadePath = cv2.data.haarcascades + \"haarcascade_frontalface_default.xml\"\n",
    "    faceCascade = cv2.CascadeClassifier(cascadePath)\n",
    "    for i in range (len(images)):\n",
    "        img = cv2.imread(images['img_path'][i])\n",
    "        gray = cv2.cvtColor(img, cv2.COLOR_BGR2GRAY)\n",
    "        faces = faceCascade.detectMultiScale(gray,  scaleFactor=1.2, minNeighbors=5,minSize=(20, 20)  )\n",
    "        if (len(faces)>0) :\n",
    "            for (x, y, w, h) in faces:\n",
    "                face=gray[y: y + h, x: x + w]\n",
    "                resize_face=cv2.resize(face, (224,224))\n",
    "                path=\"onlyfaces/\"+str(i)+\".jpg\"\n",
    "                isWritten =cv2.imwrite(path,resize_face)\n",
    "                images['img_path'][i]=path\n",
    "    return\n",
    "def load_and_split_data_s(data) :\n",
    "    x_train=[]  \n",
    "    y_train=[]\n",
    "    x_test=[]\n",
    "    y_test=[]\n",
    "    seed=10\n",
    "    gems = images.groupby(['obj_id'])['target'].first().reset_index()\n",
    "    train_gems, test_gems = train_test_split(gems, stratify=gems['target'], test_size=0.16, random_state=seed)\n",
    "    for i in range (len(images)):\n",
    "        img = cv2.imread(images['img_path'][i])\n",
    "        gray = cv2.cvtColor(img, cv2.COLOR_BGR2GRAY)\n",
    "        if(gray.shape[0]!=224) :\n",
    "            continue\n",
    "        if images['obj_id'][i] in train_gems['obj_id'] :\n",
    "            x_train.append(gray)\n",
    "            y_train.append(images['target'][i])\n",
    "        else :\n",
    "            x_test.append(gray)\n",
    "            y_test.append(images['target'][i])\n",
    "    return(np.asarray(x_train),np.asarray(y_train),np.asarray(x_test),np.asarray(y_test))\n",
    "def as_row_matrix (X):\n",
    "    if len (X) == 0:\n",
    "        return np. array ([])\n",
    "    mat = np. empty ((0 , X [0].size ), dtype =X [0]. dtype )\n",
    "    for row in X:\n",
    "        mat = np.vstack(( mat , np.asarray( row ).reshape(1 , -1))) # 1 x r*c\n",
    "    return mat"
   ]
  },
  {
   "cell_type": "code",
   "execution_count": 9,
   "metadata": {},
   "outputs": [],
   "source": [
    "def run_poln_NW():\n",
    "    global images\n",
    "    clear_output(wait=True)\n",
    "    parametrs=read_params_from_file()\n",
    "    find_face()\n",
    "    x_train,y_train,x_test,y_test=load_and_split_data_s(images)\n",
    "    y_train = to_categorical(y_train)\n",
    "    y_test = to_categorical(y_test)\n",
    "    x_train = x_train.reshape(len(y_train), 50176)\n",
    "    x_test = x_test.reshape(len(y_test), 50176)\n",
    "    x_train = x_train.astype(\"float32\")/255\n",
    "    x_test = x_test.astype(\"float32\")/255\n",
    "    model = Sequential()\n",
    "    model.add(Dense(350, input_dim=50176, activation='relu'))\n",
    "    model.add(Dense(245))\n",
    "    model.add(Dense(5,activation='softmax'))\n",
    "    model.compile(optimizer=parametrs['optimizer'], loss=parametrs['loss'], metrics=['accuracy'])\n",
    "    history = model.fit(x_train, y_train, epochs=11, verbose=2, validation_data=(x_test, y_test))\n",
    "    return model\n",
    "    "
   ]
  },
  {
   "cell_type": "code",
   "execution_count": 10,
   "metadata": {},
   "outputs": [],
   "source": [
    "def run_sc_NN() :\n",
    "    global images\n",
    "    clear_output(wait=True)\n",
    "    parametrs=read_params_from_file()\n",
    "    find_face()\n",
    "    x_train,y_train,x_test,y_test=load_and_split_data_s(images)\n",
    "    "
   ]
  },
  {
   "cell_type": "code",
   "execution_count": 11,
   "metadata": {},
   "outputs": [],
   "source": [
    "def read_params_from_file():\n",
    "    global method\n",
    "    if method=='Метод опорных векторов' :\n",
    "        with open(\"C:/Users/getbb/Documents/classification_pipeline/model/SVC.txt\", \"r\") as file:\n",
    "            mas=file.readlines()\n",
    "            parametrs={}\n",
    "            key_val=mas[0].split(':')\n",
    "            parametrs[key_val[0]] = key_val[1]\n",
    "    if method=='Полносвязная Нейронная Сеть' :\n",
    "        with open(\"C:/Users/getbb/Documents/classification_pipeline/model/poln_neural_work.txt\", \"r\") as file:\n",
    "            mas=file.readlines()\n",
    "            parametrs={}\n",
    "            for i in range(len(mas)) :\n",
    "                mas[i]=mas[i].rstrip()\n",
    "                key_val=mas[i].split(':')\n",
    "                parametrs[key_val[0]] = key_val[1]\n",
    "    if method=='Свёрточная Нейронная Сеть' :\n",
    "        with open(\"C:/Users/getbb/Documents/classification_pipeline/model/neural_work.txt\", \"r\") as file:\n",
    "            mas=file.readlines()\n",
    "            parametrs={}\n",
    "            for i in range(len(mas)) :\n",
    "                mas[i]=mas[i].rstrip()\n",
    "                key_val=mas[i].split(':')\n",
    "                parametrs[key_val[0]] = key_val[1]\n",
    "    if method=='ResNet50' :\n",
    "        with open(\"C:/Users/getbb/Documents/classification_pipeline/model/ResNet50.txt\", \"r\") as file:\n",
    "            mas=file.readlines()\n",
    "            parametrs={}\n",
    "            for i in range(len(mas)) :\n",
    "                mas[i]=mas[i].rstrip()\n",
    "                key_val=mas[i].split(':')\n",
    "                parametrs[key_val[0]] = key_val[1]\n",
    "    return parametrs"
   ]
  },
  {
   "cell_type": "code",
   "execution_count": 12,
   "metadata": {},
   "outputs": [],
   "source": [
    "def Run_SVC_with_params():\n",
    "    global images\n",
    "    clear_output(wait=True)\n",
    "    parametrs=read_params_from_file()\n",
    "    x_train,y_train,x_test,y_test=load_and_split_data(images)\n",
    "    print('Модель обучается...')\n",
    "    SVC_model = SVC(kernel= parametrs['Kernel'])\n",
    "    SVC_model.fit(as_row_matrix(x_train), y_train)\n",
    "    return SVC_model"
   ]
  },
  {
   "cell_type": "code",
   "execution_count": 13,
   "metadata": {},
   "outputs": [],
   "source": [
    "def start_learning(b):\n",
    "    global method,model\n",
    "    if method=='Метод опорных векторов' :\n",
    "        model=Run_SVC_with_params()\n",
    "        clear_output(wait=True)\n",
    "    if method=='Полносвязная Нейронная Сеть':\n",
    "        model=run_poln_NW()\n",
    "        clear_output(wait=True)\n",
    "    if method=='Свёрточная Нейронная Сеть':\n",
    "        model=run_sv_NW()\n",
    "        clear_output(wait=True)\n",
    "    if method=='ResNet50':\n",
    "        model=run_sv_NW()\n",
    "        clear_output(wait=True)\n",
    "    print('Обучение модели завершено')\n",
    "    get_image_panel()\n"
   ]
  },
  {
   "cell_type": "code",
   "execution_count": 14,
   "metadata": {},
   "outputs": [],
   "source": [
    "def skip_learning(b) :\n",
    "    if model :\n",
    "        get_image_panel()\n",
    "    else :\n",
    "        start_menu()\n",
    "        print(\"Обученных моделей нет\")"
   ]
  },
  {
   "cell_type": "code",
   "execution_count": 15,
   "metadata": {},
   "outputs": [],
   "source": [
    "def get_image_panel():\n",
    "    clear_output(wait=True)\n",
    "    button = widgets.Button(description='Распознавание с камеры', \n",
    "                        button_style='success' # 'success', 'info', 'warning', 'danger', ''\n",
    "                        ,layout=widgets.Layout(width='300px'))\n",
    "    button1 = widgets.Button(description='Распознавание с изображения', \n",
    "                        button_style='success' # 'success', 'info', 'warning', 'danger', ''\n",
    "                        ,layout=widgets.Layout(width='300px'))\n",
    "    to_back_button = widgets.Button(description='Назад', \n",
    "                        button_style='danger')\n",
    "    display(to_back_button)\n",
    "    to_back_button.on_click(go_to_learn)\n",
    "    display(button)\n",
    "    button.on_click(web_camera)\n",
    "    display(button1)\n",
    "    button1.on_click(import_image)"
   ]
  },
  {
   "cell_type": "code",
   "execution_count": 16,
   "metadata": {},
   "outputs": [],
   "source": [
    "def web_camera(b):\n",
    "    cascadePath = \"C:/Users/getbb/anaconda3/Lib/site-packages/cv2/data/haarcascade_frontalface_default.xml\"\n",
    "    faceCascade = cv2.CascadeClassifier(cascadePath)\n",
    "    cap = cv2.VideoCapture(0)\n",
    "    cap.set(cv2.CAP_PROP_FPS, 24)\n",
    "    arr_faces=[]\n",
    "    j=0\n",
    "    while j<1 :\n",
    "        ret, img = cap.read()\n",
    "        gray = cv2.cvtColor(img, cv2.COLOR_BGR2GRAY)\n",
    "        faces = faceCascade.detectMultiScale(gray,scaleFactor=1.2,minNeighbors=5,minSize=(20, 20))\n",
    "        for (x, y, w, h) in faces:\n",
    "            face=gray[y: y + h, x: x + w]  \n",
    "            resize_face=cv2.resize(face, (224,224))\n",
    "            arr_faces.append(resize_face)\n",
    "            as_arr=np.asarray(arr_faces)\n",
    "            prediction=getNumberPredict(model.predict(as_row_matrix(as_arr)))\n",
    "            cv2.rectangle(img, (x, y), (x + w, y + h), (255, 0, 0), 2)\n",
    "            plt.figure()\n",
    "            plt.imshow(img)\n",
    "            j+=1\n",
    "            print('Человек определён',images.class_name.unique()[prediction])\n",
    "    "
   ]
  },
  {
   "cell_type": "code",
   "execution_count": 17,
   "metadata": {},
   "outputs": [],
   "source": [
    "def choose_kernel(b) :\n",
    "    parametrs={'kernel':'None'}\n",
    "    print('значение ядра ',b['new'])\n",
    "    parametrs['kernel']=b['new']\n",
    "    save_settings_to_txt_file(parametrs)"
   ]
  },
  {
   "cell_type": "code",
   "execution_count": 18,
   "metadata": {},
   "outputs": [],
   "source": [
    "def go_to_image_panel(b) :\n",
    "    get_image_panel()"
   ]
  },
  {
   "cell_type": "code",
   "execution_count": 19,
   "metadata": {},
   "outputs": [],
   "source": [
    "def go_to_learn(b) :\n",
    "    learn_and_options()"
   ]
  },
  {
   "cell_type": "code",
   "execution_count": 20,
   "metadata": {},
   "outputs": [],
   "source": [
    "def click_on_options(b):\n",
    "    global method\n",
    "    clear_output(wait=True)\n",
    "    if method== 'Метод опорных векторов':\n",
    "        choose_opt=widgets.RadioButtons(\n",
    "    options=['poly','linear','rbf','tanh'],\n",
    "    description='Функция ядра:',style={'description_width': 'initial'})\n",
    "        display(choose_opt)\n",
    "        choose_opt.observe(choose_kernel,names='value')\n",
    "    if (method == 'Полносвязная Нейронная Сеть') :\n",
    "        choose_opt=widgets.RadioButtons(\n",
    "    options=['Adam','SGD','Adagrad','RMSProp'],\n",
    "    description='Отпимизатор:',style={'description_width': 'initial'})\n",
    "        choose_opt2=widgets.RadioButtons(\n",
    "    options=['categorical_crossentropy','sparse_categorical_crossentropy','cosine _proximity','Poisson'],\n",
    "    description='Функция потерь:',style={'description_width': 'initial'})\n",
    "        display(choose_opt)\n",
    "        choose_opt.observe(choose_optimizer,names='value')\n",
    "        choose_opt2.observe(choose_loss,names='value')\n",
    "    to_back_button = widgets.Button(description='Назад', \n",
    "                        button_style='danger')\n",
    "    if (method == 'Cвёрточная Нейронная Сеть') :\n",
    "        choose_opt=widgets.RadioButtons(\n",
    "    options=['Adam','SGD','Adagrad','RMSProp'],\n",
    "    description='Отпимизатор:',style={'description_width': 'initial'})\n",
    "        choose_opt2=widgets.RadioButtons(\n",
    "    options=['categorical_crossentropy','sparse_categorical_crossentropy','cosine _proximity','Poisson'],\n",
    "    description='Функция потерь:',style={'description_width': 'initial'})\n",
    "        display(choose_opt)\n",
    "        choose_opt.observe(choose_optimizer,names='value')\n",
    "        choose_opt2.observe(choose_loss,names='value')\n",
    "    to_back_button = widgets.Button(description='Назад', \n",
    "                        button_style='danger')\n",
    "    if (method == 'ResNet50') :\n",
    "        choose_opt=widgets.RadioButtons(\n",
    "    options=['Adam','SGD','Adagrad','RMSProp'],\n",
    "    description='Отпимизатор:',style={'description_width': 'initial'})\n",
    "        choose_opt2=widgets.RadioButtons(\n",
    "    options=['categorical_crossentropy','sparse_categorical_crossentropy','cosine _proximity','Poisson'],\n",
    "    description='Функция потерь:',style={'description_width': 'initial'})\n",
    "        display(choose_opt)\n",
    "        choose_opt.observe(choose_optimizer,names='value')\n",
    "        choose_opt2.observe(choose_loss,names='value')\n",
    "    to_back_button = widgets.Button(description='Назад', \n",
    "                        button_style='danger')\n",
    "    display(to_back_button)\n",
    "    to_back_button.on_click(go_to_learn)\n",
    "    \n",
    "        "
   ]
  },
  {
   "cell_type": "code",
   "execution_count": 21,
   "metadata": {},
   "outputs": [],
   "source": [
    "def choose_optimizer(b) :\n",
    "    parametrs = read_params_from_file()\n",
    "    parametrs['optimizer']=b['new']\n",
    "    save_settings_to_txt_file(parametrs)\n",
    "def choose_loss(b) :\n",
    "    parametrs = read_params_from_file()\n",
    "    parametrs['loss']=b['new']\n",
    "    save_settings_to_txt_file(parametrs)"
   ]
  },
  {
   "cell_type": "code",
   "execution_count": 22,
   "metadata": {},
   "outputs": [],
   "source": [
    "def learn_and_options() :\n",
    "    clear_output(wait=True)\n",
    "    button = widgets.Button(description='Обучение на существующей моделе', \n",
    "                        button_style='success' # 'success', 'info', 'warning', 'danger', ''\n",
    "                        ,layout=widgets.Layout(width='300px'))\n",
    "    button1 = widgets.Button(description='Настройка', \n",
    "                        button_style='success' # 'success', 'info', 'warning', 'danger', ''\n",
    "                        ,layout=widgets.Layout(width='300px'))\n",
    "    display(button)\n",
    "    button.on_click(start_learning)\n",
    "    button1.on_click(click_on_options)\n",
    "    display(button1)\n",
    "    "
   ]
  },
  {
   "cell_type": "code",
   "execution_count": 23,
   "metadata": {},
   "outputs": [],
   "source": [
    "def forming_csv(path) :\n",
    "    global classnames\n",
    "    classnames=[]\n",
    "    print('Ожидайте ,оформируется csv.файл')\n",
    "    with open(\"C:/Users/getbb/Documents/classification_pipeline/samples/full.csv\", mode=\"w\", encoding='utf-8') as w_file :\n",
    "            file_writer = csv.writer(w_file, delimiter = \",\", lineterminator=\"\\r\")\n",
    "            file_writer.writerow([\"obj_id\",\"class_name\", \"img_path\", \"target\"])\n",
    "            i=0\n",
    "            j=-1\n",
    "            for foldername in os.listdir(path): \n",
    "                classname=foldername\n",
    "                for names in glob.glob(os.path.join(path+'/'+foldername, '*.jpg')):\n",
    "                    names=names.replace(\"\\\\\",'/')\n",
    "                    if classname in classnames :\n",
    "                        file_writer.writerow([i,classname,names,j])\n",
    "                    else :\n",
    "                        classnames.append(classname)\n",
    "                        j+=1\n",
    "                        file_writer.writerow([i,classname,names,j])\n",
    "                    i+=1\n",
    "    clear_output(wait=True)\n",
    "    print('.csv Файл успешно создан по адресу','C:/Users/getbb/Documents/classification_pipeline/samples/full.csv')\n",
    "    images = pd.read_csv('C:/Users/getbb/Documents/classification_pipeline/samples/full.csv')\n",
    "    choose_method_menu()\n",
    "    return images"
   ]
  },
  {
   "cell_type": "code",
   "execution_count": 24,
   "metadata": {},
   "outputs": [],
   "source": [
    "def load_and_split_data(data) :\n",
    "    print('Формируются данные...')\n",
    "    x_train=[]  \n",
    "    y_train=[]\n",
    "    x_test=[]\n",
    "    y_test=[]\n",
    "    seed=10\n",
    "    cascadePath = \"C:/Users/getbb/anaconda3/Lib/site-packages/cv2/data/haarcascade_frontalface_default.xml\"\n",
    "    faceCascade = cv2.CascadeClassifier(cascadePath)\n",
    "    gems = images.groupby(['obj_id'])['target'].first().reset_index()\n",
    "    train_gems, test_gems = train_test_split(gems, stratify=gems['target'], test_size=0.16, random_state=seed)\n",
    "    for i in range (len(images)):\n",
    "        img = cv2.imread(images['img_path'][i])\n",
    "        gray = cv2.cvtColor(img, cv2.COLOR_BGR2GRAY)\n",
    "        faces = faceCascade.detectMultiScale(gray,  scaleFactor=1.2, minNeighbors=5,minSize=(20, 20)  )\n",
    "        if images['obj_id'][i] in train_gems['obj_id'] :\n",
    "            for (x, y, w, h) in faces:\n",
    "                face=gray[y: y + h, x: x + w]\n",
    "                resize_face=cv2.resize(face, (224,224))\n",
    "                x_train.append(resize_face)\n",
    "                y_train.append(images['target'][i])\n",
    "        else :\n",
    "            for (x, y, w, h) in faces:\n",
    "                face=gray[y: y + h, x: x + w]\n",
    "                resize_face=cv2.resize(face, (224,224))\n",
    "                x_test.append(resize_face)\n",
    "                y_test.append(images['target'][i])\n",
    "    return(np.asarray(x_train),np.asarray(y_train),np.asarray(x_test),np.asarray(y_test))   \n",
    "def as_row_matrix (X):\n",
    "    if len (X) == 0:\n",
    "        return np. array ([])\n",
    "    mat = np. empty ((0 , X [0].size ), dtype =X [0]. dtype )\n",
    "    for row in X:\n",
    "        mat = np.vstack(( mat , np.asarray( row ).reshape(1 , -1))) # 1 x r*c\n",
    "    return mat"
   ]
  },
  {
   "cell_type": "code",
   "execution_count": 25,
   "metadata": {},
   "outputs": [],
   "source": [
    "def import_image(b):\n",
    "    global img_path,fc\n",
    "    fc = FileChooser()\n",
    "    fc.filter_pattern = '*.jpg'\n",
    "    display(fc)\n",
    "    button = widgets.Button(description='Выбрать фото', \n",
    "                        button_style='success' # 'success', 'info', 'warning', 'danger', ''\n",
    "                    )\n",
    "    display(button)\n",
    "    button.on_click(detect_img)"
   ]
  },
  {
   "cell_type": "code",
   "execution_count": 26,
   "metadata": {},
   "outputs": [],
   "source": [
    "def detect_img(b):  \n",
    "    global img_path,fc\n",
    "    img_path=fc.selected\n",
    "    cascadePath = \"C:/Users/getbb/anaconda3/Lib/site-packages/cv2/data/haarcascade_frontalface_default.xml\"\n",
    "    faceCascade = cv2.CascadeClassifier(cascadePath)\n",
    "    img = cv2.imread(img_path)\n",
    "    height, width, channels = img.shape\n",
    "    print(height,width)\n",
    "    font                   = cv2.FONT_HERSHEY_SIMPLEX\n",
    "    bottomLeftCornerOfText = (0,int(height*0.1))\n",
    "    fontScale              = 4*(height*width)/(1300*827)\n",
    "    fontColor              = (0,0,0)\n",
    "    thickness              = 2\n",
    "    lineType               = 2\n",
    "    arr_faces=[]\n",
    "    gray = cv2.cvtColor(img, cv2.COLOR_BGR2GRAY)\n",
    "    faces = faceCascade.detectMultiScale(gray,scaleFactor=1.2,minNeighbors=5,minSize=(20, 20))\n",
    "    for (x, y, w, h) in faces:\n",
    "        face=gray[y: y + h, x: x + w]  \n",
    "        resize_face=cv2.resize(face, (224,224))\n",
    "        arr_faces.append(resize_face)\n",
    "        as_arr=np.asarray(arr_faces)\n",
    "        prediction=getNumberPredict(model.predict(as_row_matrix(as_arr)))\n",
    "        cv2.rectangle(img, (x, y), (x + w, y + h), (255, 0, 0), 2)\n",
    "        plt.figure()\n",
    "        plt.imshow(img)\n",
    "        print(\"Лицо на картинке: \",images.class_name.unique()[prediction])"
   ]
  },
  {
   "cell_type": "code",
   "execution_count": 27,
   "metadata": {},
   "outputs": [],
   "source": [
    "def getNumberPredict(predict) :\n",
    "    prediction = max(predict[0])\n",
    "    for i in range(len(predict[0])):\n",
    "        if predict[0][i]==prediction :return i\n",
    "    \n",
    "    "
   ]
  },
  {
   "cell_type": "code",
   "execution_count": 28,
   "metadata": {},
   "outputs": [],
   "source": [
    "model=''"
   ]
  },
  {
   "cell_type": "code",
   "execution_count": 29,
   "metadata": {},
   "outputs": [],
   "source": [
    "font                   = cv2.FONT_HERSHEY_SIMPLEX\n",
    "bottomLeftCornerOfText = (0,30)\n",
    "fontScale              = 0.8\n",
    "fontColor              = (0,0,0)\n",
    "thickness              = 2\n",
    "lineType               = 2\n"
   ]
  },
  {
   "cell_type": "code",
   "execution_count": 32,
   "metadata": {},
   "outputs": [
    {
     "data": {
      "application/vnd.jupyter.widget-view+json": {
       "model_id": "8c7a0477ae234ee3b7edeacdf0282dcf",
       "version_major": 2,
       "version_minor": 0
      },
      "text/plain": [
       "Button(button_style='danger', description='Назад', style=ButtonStyle())"
      ]
     },
     "metadata": {},
     "output_type": "display_data"
    },
    {
     "data": {
      "application/vnd.jupyter.widget-view+json": {
       "model_id": "1e0d2d76b56f4988967c3afc057eeda1",
       "version_major": 2,
       "version_minor": 0
      },
      "text/plain": [
       "Button(button_style='success', description='Распознавание с камеры', layout=Layout(width='300px'), style=Butto…"
      ]
     },
     "metadata": {},
     "output_type": "display_data"
    },
    {
     "data": {
      "application/vnd.jupyter.widget-view+json": {
       "model_id": "3fb39113ab10433c864e2f33a09bf6e9",
       "version_major": 2,
       "version_minor": 0
      },
      "text/plain": [
       "Button(button_style='success', description='Распознавание с изображения', layout=Layout(width='300px'), style=…"
      ]
     },
     "metadata": {},
     "output_type": "display_data"
    },
    {
     "name": "stdout",
     "output_type": "stream",
     "text": [
      "Человек определён Albov_NA\n"
     ]
    },
    {
     "data": {
      "image/png": "[encoded data removed]",
      "text/plain": [
       "<Figure size 432x288 with 1 Axes>"
      ]
     },
     "metadata": {
      "needs_background": "light"
     },
     "output_type": "display_data"
    }
   ],
   "source": [
    "path='C:/Users/getbb/Documents/classification_pipeline/images'\n",
    "desc = ''\n",
    "start_menu()"
   ]
  },
  {
   "cell_type": "code",
   "execution_count": 31,
   "metadata": {},
   "outputs": [
    {
     "ename": "NameError",
     "evalue": "name 'images' is not defined",
     "output_type": "error",
     "traceback": [
      "\u001b[1;31m---------------------------------------------------------------------------\u001b[0m",
      "\u001b[1;31mNameError\u001b[0m                                 Traceback (most recent call last)",
      "\u001b[1;32m<ipython-input-31-3b38951d3b4b>\u001b[0m in \u001b[0;36m<module>\u001b[1;34m\u001b[0m\n\u001b[1;32m----> 1\u001b[1;33m \u001b[0mimages\u001b[0m\u001b[1;33m.\u001b[0m\u001b[0mhead\u001b[0m\u001b[1;33m(\u001b[0m\u001b[1;33m)\u001b[0m\u001b[1;33m\u001b[0m\u001b[1;33m\u001b[0m\u001b[0m\n\u001b[0m",
      "\u001b[1;31mNameError\u001b[0m: name 'images' is not defined"
     ]
    }
   ],
   "source": [
    "images.head()"
   ]
  },
  {
   "cell_type": "code",
   "execution_count": null,
   "metadata": {},
   "outputs": [],
   "source": []
  }
 ],
 "metadata": {
  "kernelspec": {
   "display_name": "Python 3",
   "language": "python",
   "name": "python3"
  },
  "language_info": {
   "codemirror_mode": {
    "name": "ipython",
    "version": 3
   },
   "file_extension": ".py",
   "mimetype": "text/x-python",
   "name": "python",
   "nbconvert_exporter": "python",
   "pygments_lexer": "ipython3",
   "version": "3.8.3"
  }
 },
 "nbformat": 4,
 "nbformat_minor": 4
}
