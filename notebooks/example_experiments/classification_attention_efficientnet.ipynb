{
 "cells": [
  {
   "cell_type": "markdown",
   "metadata": {},
   "source": [
    "This notebook have example of usage classification pipeline for Alrosa gems color classification with attention layer for multi-image classification"
   ]
  },
  {
   "cell_type": "code",
   "execution_count": 1,
   "metadata": {},
   "outputs": [],
   "source": [
    "# Imports\n",
    "import time\n",
    "from tqdm import tqdm\n",
    "import os\n",
    "import sys\n",
    "import pandas as pd\n",
    "import numpy as np\n",
    "from PIL import Image\n",
    "\n",
    "import torch\n",
    "from torch import nn\n",
    "from torch.nn import functional as F\n",
    "from torch.utils.data import DataLoader, Dataset\n",
    "\n",
    "sys.path.append('../..') #add root directory of project to import needed modules\n",
    "from preprocess import preprocess\n",
    "from train_model import train_model\n",
    "from evaluate_model import evaluate, evaluate_model, compute_metrics\n",
    "\n",
    "from configuration import Configuration\n",
    "from utils import load_json, load_dataset, aggregate_detailed_classes\n",
    "import cv2\n",
    "from utils import build_data_loader, load_model, plot_probabilities_distribution\n",
    "from utils import show_mistakes_by_target, show_mistakes_by_pred, save_json\n",
    "\n",
    "from pprint import pprint as pp\n",
    "\n",
    "import matplotlib.pyplot as plt\n",
    "%matplotlib inline"
   ]
  },
  {
   "cell_type": "code",
   "execution_count": 2,
   "metadata": {},
   "outputs": [],
   "source": [
    "%load_ext autoreload\n",
    "%autoreload 2"
   ]
  },
  {
   "cell_type": "markdown",
   "metadata": {},
   "source": [
    "# load data"
   ]
  },
  {
   "cell_type": "markdown",
   "metadata": {},
   "source": [
    "Dataset was already collected, one should collect dataset that meet conditions described above"
   ]
  },
  {
   "cell_type": "code",
   "execution_count": 3,
   "metadata": {},
   "outputs": [],
   "source": [
    "# choose path to your dataset\n",
    "path_to_dataset = '/storage/bigdata/alrosa_project/raw_from_ftp/nurba/classification_pipeline_example/images.csv'"
   ]
  },
  {
   "cell_type": "code",
   "execution_count": 4,
   "metadata": {},
   "outputs": [],
   "source": [
    "images = pd.read_csv(path_to_dataset)"
   ]
  },
  {
   "cell_type": "markdown",
   "metadata": {},
   "source": [
    "Dataset is supposed to have the following columns:\n",
    "- *class_name*: str\n",
    "- *obj_id* - id of one item. Unique for single image classification. Images of the same object must have the same *obj_id* (for multi image classification)\n",
    "- *img_path*: str - path to image\n",
    "- *target*: int - encoding of classes\n",
    "\n"
   ]
  },
  {
   "cell_type": "code",
   "execution_count": 5,
   "metadata": {},
   "outputs": [
    {
     "data": {
      "text/html": [
       "<div>\n",
       "<style scoped>\n",
       "    .dataframe tbody tr th:only-of-type {\n",
       "        vertical-align: middle;\n",
       "    }\n",
       "\n",
       "    .dataframe tbody tr th {\n",
       "        vertical-align: top;\n",
       "    }\n",
       "\n",
       "    .dataframe thead th {\n",
       "        text-align: right;\n",
       "    }\n",
       "</style>\n",
       "<table border=\"1\" class=\"dataframe\">\n",
       "  <thead>\n",
       "    <tr style=\"text-align: right;\">\n",
       "      <th></th>\n",
       "      <th>class_name</th>\n",
       "      <th>obj_id</th>\n",
       "      <th>img_path</th>\n",
       "      <th>target</th>\n",
       "    </tr>\n",
       "  </thead>\n",
       "  <tbody>\n",
       "    <tr>\n",
       "      <th>0</th>\n",
       "      <td>4Col</td>\n",
       "      <td>2021-06-07_10-50-22-147/141</td>\n",
       "      <td>/storage/bigdata/alrosa_project/raw_from_ftp/n...</td>\n",
       "      <td>6</td>\n",
       "    </tr>\n",
       "    <tr>\n",
       "      <th>1</th>\n",
       "      <td>4Col</td>\n",
       "      <td>2021-06-07_10-50-22-147/141</td>\n",
       "      <td>/storage/bigdata/alrosa_project/raw_from_ftp/n...</td>\n",
       "      <td>6</td>\n",
       "    </tr>\n",
       "    <tr>\n",
       "      <th>2</th>\n",
       "      <td>4Col</td>\n",
       "      <td>2021-06-07_10-50-22-147/166</td>\n",
       "      <td>/storage/bigdata/alrosa_project/raw_from_ftp/n...</td>\n",
       "      <td>6</td>\n",
       "    </tr>\n",
       "    <tr>\n",
       "      <th>3</th>\n",
       "      <td>4Col</td>\n",
       "      <td>2021-06-07_10-50-22-147/166</td>\n",
       "      <td>/storage/bigdata/alrosa_project/raw_from_ftp/n...</td>\n",
       "      <td>6</td>\n",
       "    </tr>\n",
       "    <tr>\n",
       "      <th>4</th>\n",
       "      <td>4Col</td>\n",
       "      <td>2021-06-07_10-50-22-147/215</td>\n",
       "      <td>/storage/bigdata/alrosa_project/raw_from_ftp/n...</td>\n",
       "      <td>6</td>\n",
       "    </tr>\n",
       "  </tbody>\n",
       "</table>\n",
       "</div>"
      ],
      "text/plain": [
       "  class_name                       obj_id  \\\n",
       "0       4Col  2021-06-07_10-50-22-147/141   \n",
       "1       4Col  2021-06-07_10-50-22-147/141   \n",
       "2       4Col  2021-06-07_10-50-22-147/166   \n",
       "3       4Col  2021-06-07_10-50-22-147/166   \n",
       "4       4Col  2021-06-07_10-50-22-147/215   \n",
       "\n",
       "                                            img_path  target  \n",
       "0  /storage/bigdata/alrosa_project/raw_from_ftp/n...       6  \n",
       "1  /storage/bigdata/alrosa_project/raw_from_ftp/n...       6  \n",
       "2  /storage/bigdata/alrosa_project/raw_from_ftp/n...       6  \n",
       "3  /storage/bigdata/alrosa_project/raw_from_ftp/n...       6  \n",
       "4  /storage/bigdata/alrosa_project/raw_from_ftp/n...       6  "
      ]
     },
     "execution_count": 5,
     "metadata": {},
     "output_type": "execute_result"
    }
   ],
   "source": [
    "images.head()"
   ]
  },
  {
   "cell_type": "markdown",
   "metadata": {},
   "source": [
    "In out case there are 2 images per one gem (from 2 cameras)  \n",
    "We are going to train attention model simulteniously using images with the same **obj_ids**"
   ]
  },
  {
   "cell_type": "code",
   "execution_count": 6,
   "metadata": {},
   "outputs": [
    {
     "data": {
      "text/plain": [
       "2021-06-07_10-50-22-147/141    2\n",
       "2021-06-07_11-36-05-944/152    2\n",
       "2021-06-07_11-36-05-944/179    2\n",
       "2021-06-07_11-36-05-944/132    2\n",
       "2021-06-07_11-36-05-944/274    2\n",
       "                              ..\n",
       "2021-06-07_10-05-54-146/5      2\n",
       "2021-06-07_10-05-54-146/57     2\n",
       "2021-06-07_10-05-54-146/177    2\n",
       "2021-06-07_10-05-54-146/255    2\n",
       "2021-06-07_12-17-42-560/55     2\n",
       "Name: obj_id, Length: 2645, dtype: int64"
      ]
     },
     "execution_count": 6,
     "metadata": {},
     "output_type": "execute_result"
    }
   ],
   "source": [
    "images['obj_id'].value_counts()"
   ]
  },
  {
   "cell_type": "code",
   "execution_count": 7,
   "metadata": {},
   "outputs": [
    {
     "data": {
      "text/plain": [
       "3-4Brn    668\n",
       "1Col      664\n",
       "2Col      626\n",
       "3Col      620\n",
       "Cape      618\n",
       "4Col      614\n",
       "2Brn      488\n",
       "1Brn      428\n",
       "5-6Brn    336\n",
       "Grey      228\n",
       "Name: class_name, dtype: int64"
      ]
     },
     "execution_count": 7,
     "metadata": {},
     "output_type": "execute_result"
    }
   ],
   "source": [
    "images.class_name.value_counts()"
   ]
  },
  {
   "cell_type": "code",
   "execution_count": 8,
   "metadata": {},
   "outputs": [],
   "source": [
    "# Define class_names with names of classes in dataset to print confusion matrix correctly \n",
    "# order of classes is important\n",
    "\n",
    "class_names = [\n",
    "    '1Brn', '1Col', '2Brn', '2Col', '3-4Brn', '3Col', '4Col', '5-6Brn', \n",
    "    'Cape', 'Grey'\n",
    "]"
   ]
  },
  {
   "cell_type": "code",
   "execution_count": 9,
   "metadata": {},
   "outputs": [],
   "source": [
    "# target mapping\n",
    "# encode classes names to target\n",
    "\n",
    "target_mapper = {\n",
    "    '1Brn':0,\n",
    "    '1Col':1,\n",
    "    '2Brn':2,\n",
    "    '2Col':3,\n",
    "    '3-4Brn':4,\n",
    "    '3Col':5,\n",
    "    '4Col':6,\n",
    "    '5-6Brn':7,\n",
    "    'Cape':8,\n",
    "    'Grey':9\n",
    "}\n",
    "\n",
    "images['target'] = images['class_name'].map(target_mapper)"
   ]
  },
  {
   "cell_type": "markdown",
   "metadata": {},
   "source": [
    "# set experiment params"
   ]
  },
  {
   "cell_type": "markdown",
   "metadata": {},
   "source": [
    "One could use configuration file from  './configs/classification.json' or add your own config.  \n",
    "One could as well change config parameters from notebook as presented in the following cell"
   ]
  },
  {
   "cell_type": "code",
   "execution_count": 10,
   "metadata": {},
   "outputs": [
    {
     "name": "stdout",
     "output_type": "stream",
     "text": [
      "{'CONFIG_PARAMS': {'COLLECTION': 'collection_separate',\n",
      "                   'MODEL': 'resnet50_imagenet',\n",
      "                   'TRAINER': 'trainer_separate'},\n",
      " 'CUDA_NUMBER': 0,\n",
      " 'DATA_PATH': '/storage2/open',\n",
      " 'EPOCH': None,\n",
      " 'EXP_NAME': 'detailes_classification/',\n",
      " 'EXP_PARAMS': {'batch_size': 40,\n",
      "                'filter_df': True,\n",
      "                'lr': 1e-05,\n",
      "                'model_name': 'imagenet_pretrained_baseline_v1',\n",
      "                'num_epochs': 100,\n",
      "                'use_balanced_weights': True,\n",
      "                'use_norm': True},\n",
      " 'MODEL_PARAMS': {'num_classes': 6},\n",
      " 'PRETRAINED': 1,\n",
      " 'SEED': 55}\n"
     ]
    }
   ],
   "source": [
    "config_path = './configs/classification.json'\n",
    "config_json = load_json(config_path)\n",
    "pp(config_json)\n",
    "\n",
    "config_json['MODEL_PARAMS']['num_classes'] = images.target.nunique()\n",
    "config_json['CUDA_NUMBER'] = 0 # put None to use cpu\n",
    "config_json['EXP_NAME'] = 'classification_atttention'\n",
    "\n",
    "\n",
    "config_json['CONFIG_PARAMS']['MODEL'] = 'efficientnet_attn_pretrained' # names are taken from configuration.py script\n",
    "config_json['CONFIG_PARAMS']['TRAINER'] = 'trainer_attention'\n",
    "config_json['CONFIG_PARAMS']['COLLECTION'] = 'collection_attention'\n",
    "\n",
    "\n",
    "config_json[\"EXP_PARAMS\"]['num_epochs'] = 10\n",
    "config_json[\"EXP_PARAMS\"]['batch_size'] = 15"
   ]
  },
  {
   "cell_type": "code",
   "execution_count": 11,
   "metadata": {},
   "outputs": [],
   "source": [
    "config = Configuration(config_json)"
   ]
  },
  {
   "cell_type": "code",
   "execution_count": 12,
   "metadata": {},
   "outputs": [
    {
     "name": "stdout",
     "output_type": "stream",
     "text": [
      "/storage2/open\n",
      "classification_atttention\n"
     ]
    }
   ],
   "source": [
    "SEED = 55\n",
    "\n",
    "data_path = config.DATA_PATH\n",
    "print(data_path)\n",
    "experiment_name = config_json['EXP_NAME']\n",
    "print(experiment_name)\n",
    "try:\n",
    "    seed = config.SEED\n",
    "except KeyError:\n",
    "    seed = SEED\n",
    "\n",
    "path_to_save = f'./experiments/{experiment_name}'"
   ]
  },
  {
   "cell_type": "markdown",
   "metadata": {},
   "source": [
    "# split data"
   ]
  },
  {
   "cell_type": "markdown",
   "metadata": {},
   "source": [
    "Split data to train/val/test with obj_id stratification"
   ]
  },
  {
   "cell_type": "code",
   "execution_count": 14,
   "metadata": {},
   "outputs": [
    {
     "name": "stdout",
     "output_type": "stream",
     "text": [
      "Split shapes for train / val / test: 3808 / 952 / 530 \n",
      "\n",
      "Train class share: \n",
      " 0    0.081408\n",
      "1    0.125525\n",
      "2    0.091912\n",
      "3    0.118697\n",
      "4    0.126050\n",
      "5    0.117122\n",
      "6    0.116071\n",
      "7    0.063550\n",
      "8    0.116597\n",
      "9    0.043067\n",
      "Name: target, dtype: float64\n",
      "Val class share: \n",
      " 0    0.079832\n",
      "1    0.126050\n",
      "2    0.092437\n",
      "3    0.117647\n",
      "4    0.126050\n",
      "5    0.117647\n",
      "6    0.115546\n",
      "7    0.063025\n",
      "8    0.117647\n",
      "9    0.044118\n",
      "Name: target, dtype: float64\n",
      "Test class share: \n",
      " 0    0.079245\n",
      "1    0.124528\n",
      "2    0.094340\n",
      "3    0.116981\n",
      "4    0.128302\n",
      "5    0.116981\n",
      "6    0.116981\n",
      "7    0.064151\n",
      "8    0.116981\n",
      "9    0.041509\n",
      "Name: target, dtype: float64\n",
      "Preprocessing stage is finished.\n"
     ]
    }
   ],
   "source": [
    "from sklearn.model_selection import train_test_split\n",
    "\n",
    "# split by obj_id STRATIFY\n",
    "gems = images.groupby(['obj_id'])['target'].first().reset_index()\n",
    "\n",
    "train_gems, test_gems = train_test_split(gems, stratify=gems['target'], test_size=0.1, random_state=seed)\n",
    "train_gems, val_gems = train_test_split(train_gems, stratify=train_gems['target'], test_size=0.2, random_state=seed)\n",
    "\n",
    "train_gems = train_gems['obj_id'].values\n",
    "val_gems = val_gems['obj_id'].values\n",
    "test_gems = test_gems['obj_id'].values\n",
    "\n",
    "train = images[images['obj_id'].isin(train_gems)].sample(frac=1, random_state=seed).reset_index(drop=True)\n",
    "val = images[images['obj_id'].isin(val_gems)].reset_index(drop=True)\n",
    "test = images[images['obj_id'].isin(test_gems)].reset_index(drop=True)\n",
    "\n",
    "print(f'Split shapes for train / val / test: {train.shape[0]} / {val.shape[0]} / {test.shape[0]} \\n')\n",
    "print('Train class share: \\n', train['target'].value_counts().sort_index() / len(train))\n",
    "print('Val class share: \\n', val['target'].value_counts().sort_index() / len(val))\n",
    "print('Test class share: \\n', test['target'].value_counts().sort_index() / len(test))\n",
    "\n",
    "if not os.path.exists(path_to_save):\n",
    "    os.makedirs(path_to_save)\n",
    "\n",
    "# save data sets\n",
    "train.to_csv(os.path.join(path_to_save, 'train.csv'), index=False)\n",
    "val.to_csv(os.path.join(path_to_save, 'val.csv'), index=False)\n",
    "test.to_csv(os.path.join(path_to_save, 'test.csv'), index=False)\n",
    "\n",
    "save_json({'class_names': class_names}, os.path.join(path_to_save, 'metadata.json'))\n",
    "print('Preprocessing stage is finished.')"
   ]
  },
  {
   "cell_type": "markdown",
   "metadata": {},
   "source": [
    "# train model"
   ]
  },
  {
   "cell_type": "code",
   "execution_count": 15,
   "metadata": {},
   "outputs": [
    {
     "name": "stdout",
     "output_type": "stream",
     "text": [
      "{'CONFIG_PARAMS': {'COLLECTION': 'collection_attention',\n",
      "                   'MODEL': 'efficientnet_attn_pretrained',\n",
      "                   'TRAINER': 'trainer_attention'},\n",
      " 'CUDA_NUMBER': 0,\n",
      " 'DATA_PATH': '/storage2/open',\n",
      " 'EPOCH': None,\n",
      " 'EXP_NAME': 'classification_atttention',\n",
      " 'EXP_PARAMS': {'batch_size': 15,\n",
      "                'filter_df': True,\n",
      "                'lr': 1e-05,\n",
      "                'model_name': 'imagenet_pretrained_baseline_v1',\n",
      "                'num_epochs': 10,\n",
      "                'use_balanced_weights': True,\n",
      "                'use_norm': True},\n",
      " 'MODEL_PARAMS': {'num_classes': 10},\n",
      " 'PRETRAINED': 1,\n",
      " 'SEED': 55}\n"
     ]
    }
   ],
   "source": [
    "pp(config_json)"
   ]
  },
  {
   "cell_type": "code",
   "execution_count": 16,
   "metadata": {},
   "outputs": [
    {
     "name": "stdout",
     "output_type": "stream",
     "text": [
      "Experiment path: \t ./experiments/classification_atttention\n",
      "Model path: \t\t ./experiments/classification_atttention/imagenet_pretrained_baseline_v1\n"
     ]
    }
   ],
   "source": [
    "experiment_folder_path = os.path.join('./experiments/', experiment_name)\n",
    "print('Experiment path: \\t', experiment_folder_path)\n",
    "\n",
    "# delete folder if needed\n",
    "model_path = os.path.join(experiment_folder_path, config.EXP_PARAMS['model_name'])\n",
    "print('Model path: \\t\\t', model_path)\n",
    "#!rm {model_path} -r"
   ]
  },
  {
   "cell_type": "code",
   "execution_count": 17,
   "metadata": {},
   "outputs": [
    {
     "name": "stdout",
     "output_type": "stream",
     "text": [
      "Starting model training stage...\n",
      "Train set size:  (3808, 4)\n",
      "Val set size:  (952, 4)\n",
      "Class weights: \n",
      " [1.2283871  0.79665272 1.088      0.84247788 0.79333333 0.85381166\n",
      " 0.86153846 1.57355372 0.85765766 2.32195122]\n",
      "Loaded pretrained weights for efficientnet-b3\n",
      "Epoch: 0 | phase: train |: 19:12:30\n",
      "Loss: 2.198762, Score: 0.281513\n",
      "Epoch: 0 | phase: val |: 19:13:29\n",
      "Loss: 3.439836, Score: 0.079832\n",
      "******** New optimal found, saving state ********\n",
      "\n",
      "Epoch: 1 | phase: train |: 19:13:34\n",
      "Loss: 1.857649, Score: 0.45063\n",
      "Epoch: 1 | phase: val |: 19:14:32\n",
      "Loss: 2.036823, Score: 0.292017\n",
      "******** New optimal found, saving state ********\n",
      "\n",
      "Epoch: 2 | phase: train |: 19:14:36\n",
      "Loss: 1.503852, Score: 0.508403\n",
      "Epoch: 2 | phase: val |: 19:15:35\n",
      "Loss: 1.294601, Score: 0.607143\n",
      "******** New optimal found, saving state ********\n",
      "\n",
      "Epoch: 3 | phase: train |: 19:15:40\n",
      "Loss: 1.261664, Score: 0.56355\n",
      "Epoch: 3 | phase: val |: 19:16:37\n",
      "Loss: 1.026482, Score: 0.670168\n",
      "******** New optimal found, saving state ********\n",
      "\n",
      "Epoch: 4 | phase: train |: 19:16:42\n",
      "Loss: 1.058765, Score: 0.598739\n",
      "Epoch: 4 | phase: val |: 19:17:40\n",
      "Loss: 0.846702, Score: 0.714286\n",
      "******** New optimal found, saving state ********\n",
      "\n",
      "Epoch: 5 | phase: train |: 19:17:45\n",
      "Loss: 0.934052, Score: 0.631828\n",
      "Epoch: 5 | phase: val |: 19:18:42\n",
      "Loss: 0.743301, Score: 0.743697\n",
      "******** New optimal found, saving state ********\n",
      "\n",
      "Epoch: 6 | phase: train |: 19:18:47\n",
      "Loss: 0.838199, Score: 0.657563\n",
      "Epoch: 6 | phase: val |: 19:19:45\n",
      "Loss: 0.669289, Score: 0.787815\n",
      "******** New optimal found, saving state ********\n",
      "\n",
      "Epoch: 7 | phase: train |: 19:19:49\n",
      "Loss: 0.794824, Score: 0.66334\n",
      "Epoch: 7 | phase: val |: 19:20:47\n",
      "Loss: 0.643106, Score: 0.781513\n",
      "\n",
      "Epoch: 8 | phase: train |: 19:20:51\n",
      "Loss: 0.763006, Score: 0.678571\n",
      "Epoch: 8 | phase: val |: 19:21:49\n",
      "Loss: 0.616826, Score: 0.777311\n",
      "\n",
      "Epoch: 9 | phase: train |: 19:21:53\n",
      "Loss: 0.728523, Score: 0.695903\n",
      "Epoch: 9 | phase: val |: 19:22:50\n",
      "Loss: 0.58502, Score: 0.813025\n",
      "******** New optimal found, saving state ********\n",
      "\n",
      "Model training is finished.\n"
     ]
    }
   ],
   "source": [
    "best_epoch = train_model(experiment_folder_path, config)"
   ]
  },
  {
   "cell_type": "markdown",
   "metadata": {},
   "source": [
    "# evaluate model"
   ]
  },
  {
   "cell_type": "code",
   "execution_count": 18,
   "metadata": {
    "scrolled": false
   },
   "outputs": [
    {
     "name": "stdout",
     "output_type": "stream",
     "text": [
      "Starting model validation stage on test.csv set...\n",
      "Loaded pretrained weights for efficientnet-b3\n"
     ]
    },
    {
     "name": "stderr",
     "output_type": "stream",
     "text": [
      "100%|████████████████████████████████████████████████████████| 18/18 [00:03<00:00,  5.57it/s]\n"
     ]
    },
    {
     "name": "stdout",
     "output_type": "stream",
     "text": [
      "Accuracy:  0.7660377358490567\n",
      "Precision:  0.7702338323712519\n",
      "Recall:  0.7660377358490567\n",
      "Class. report:\n",
      "               precision    recall  f1-score   support\n",
      "\n",
      "        1Brn       0.89      0.81      0.85        21\n",
      "        1Col       0.78      0.88      0.83        33\n",
      "        2Brn       0.75      0.72      0.73        25\n",
      "        2Col       0.71      0.55      0.62        31\n",
      "      3-4Brn       0.71      0.65      0.68        34\n",
      "        3Col       0.78      0.68      0.72        31\n",
      "        4Col       0.80      0.77      0.79        31\n",
      "      5-6Brn       0.67      0.82      0.74        17\n",
      "        Cape       0.91      1.00      0.95        31\n",
      "        Grey       0.56      0.91      0.69        11\n",
      "\n",
      "    accuracy                           0.77       265\n",
      "   macro avg       0.76      0.78      0.76       265\n",
      "weighted avg       0.77      0.77      0.76       265\n",
      "\n"
     ]
    },
    {
     "data": {
      "image/png": "[encoded data removed]",
      "text/plain": [
       "<Figure size 720x504 with 2 Axes>"
      ]
     },
     "metadata": {
      "needs_background": "light"
     },
     "output_type": "display_data"
    },
    {
     "name": "stdout",
     "output_type": "stream",
     "text": [
      "Conf. matrix:\n",
      " [[17  0  1  1  0  0  0  0  0  2]\n",
      " [ 0 29  0  4  0  0  0  0  0  0]\n",
      " [ 1  0 18  0  6  0  0  0  0  0]\n",
      " [ 1  8  0 17  0  3  0  0  0  2]\n",
      " [ 0  0  5  0 22  0  0  7  0  0]\n",
      " [ 0  0  0  1  0 21  6  0  0  3]\n",
      " [ 0  0  0  0  0  3 24  0  3  1]\n",
      " [ 0  0  0  0  3  0  0 14  0  0]\n",
      " [ 0  0  0  0  0  0  0  0 31  0]\n",
      " [ 0  0  0  1  0  0  0  0  0 10]]\n",
      "Model evaluation is finished.\n"
     ]
    }
   ],
   "source": [
    "pred, results = evaluate_model(best_epoch, experiment_folder_path, 'test', config)"
   ]
  },
  {
   "cell_type": "markdown",
   "metadata": {},
   "source": [
    "# Aggregate results"
   ]
  },
  {
   "cell_type": "markdown",
   "metadata": {},
   "source": [
    "And aggregate detailed classes.  \n",
    "For example aggregate \"1Col\", \"2Col\", \"3Col\" to \"White\""
   ]
  },
  {
   "cell_type": "code",
   "execution_count": 19,
   "metadata": {},
   "outputs": [],
   "source": [
    "mapper_aggregated = {\n",
    "    0: 'White',\n",
    "    1: 'Light Brown',\n",
    "    2: 'Dark Brown',\n",
    "    3: 'Grey',\n",
    "    4: 'Yellow',\n",
    "}"
   ]
  },
  {
   "cell_type": "markdown",
   "metadata": {},
   "source": [
    "Write dict for classes to aggregate"
   ]
  },
  {
   "cell_type": "code",
   "execution_count": 20,
   "metadata": {},
   "outputs": [],
   "source": [
    "aggregated_class_map = {\n",
    "    0:1,\n",
    "    1:0,\n",
    "    2:2,\n",
    "    3:0,\n",
    "    4:2,\n",
    "    5:0,\n",
    "    6:4,\n",
    "    7:2,\n",
    "    8:4,\n",
    "    9:3,\n",
    "}"
   ]
  },
  {
   "cell_type": "code",
   "execution_count": 21,
   "metadata": {},
   "outputs": [],
   "source": [
    "pred_gem_aggregated = aggregate_detailed_classes(pred, aggregated_class_map)"
   ]
  },
  {
   "cell_type": "code",
   "execution_count": 22,
   "metadata": {},
   "outputs": [],
   "source": [
    "aggregated_classes = ['White', 'Light Brown', 'Dark Brown', 'Grey', 'Yellow']"
   ]
  },
  {
   "cell_type": "code",
   "execution_count": 23,
   "metadata": {},
   "outputs": [
    {
     "name": "stdout",
     "output_type": "stream",
     "text": [
      "Accuracy:  0.9207547169811321\n",
      "Precision:  0.9218120271658454\n",
      "Recall:  0.9207547169811321\n",
      "Class. report:\n",
      "               precision    recall  f1-score   support\n",
      "\n",
      "       White       0.94      0.92      0.93        95\n",
      " Light Brown       0.88      0.71      0.79        21\n",
      "  Dark Brown       0.96      0.99      0.97        76\n",
      "        Grey       0.69      0.82      0.75        11\n",
      "      Yellow       0.91      0.94      0.92        62\n",
      "\n",
      "    accuracy                           0.92       265\n",
      "   macro avg       0.88      0.87      0.87       265\n",
      "weighted avg       0.92      0.92      0.92       265\n",
      "\n"
     ]
    },
    {
     "data": {
      "image/png": "[encoded data removed]",
      "text/plain": [
       "<Figure size 720x504 with 2 Axes>"
      ]
     },
     "metadata": {
      "needs_background": "light"
     },
     "output_type": "display_data"
    },
    {
     "name": "stdout",
     "output_type": "stream",
     "text": [
      "Conf. matrix:\n",
      " [[87  1  0  1  6]\n",
      " [ 1 15  3  2  0]\n",
      " [ 0  1 75  0  0]\n",
      " [ 2  0  0  9  0]\n",
      " [ 3  0  0  1 58]]\n"
     ]
    }
   ],
   "source": [
    "r = compute_metrics(pred_gem_aggregated, aggregated_classes)"
   ]
  },
  {
   "cell_type": "code",
   "execution_count": null,
   "metadata": {},
   "outputs": [],
   "source": []
  }
 ],
 "metadata": {
  "kernelspec": {
   "display_name": "Python 3",
   "language": "python",
   "name": "python3"
  },
  "language_info": {
   "codemirror_mode": {
    "name": "ipython",
    "version": 3
   },
   "file_extension": ".py",
   "mimetype": "text/x-python",
   "name": "python",
   "nbconvert_exporter": "python",
   "pygments_lexer": "ipython3",
   "version": "3.8.3"
  },
  "toc": {
   "base_numbering": 1,
   "nav_menu": {},
   "number_sections": true,
   "sideBar": true,
   "skip_h1_title": false,
   "title_cell": "Table of Contents",
   "title_sidebar": "Contents",
   "toc_cell": false,
   "toc_position": {},
   "toc_section_display": true,
   "toc_window_display": false
  }
 },
 "nbformat": 4,
 "nbformat_minor": 2
}
