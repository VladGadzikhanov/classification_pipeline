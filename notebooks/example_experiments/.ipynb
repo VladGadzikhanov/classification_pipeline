{
 "cells": [
  {
   "cell_type": "code",
   "execution_count": 11,
   "metadata": {},
   "outputs": [],
   "source": [
    "# Imports\n",
    "import time\n",
    "import re\n",
    "from tqdm import tqdm\n",
    "import os\n",
    "import sys\n",
    "import math\n",
    "from pprint import pprint as pp\n",
    "\n",
    "import pandas as pd\n",
    "import numpy as np\n",
    "from PIL import Image\n",
    "import cv2\n",
    "\n",
    "\n",
    "%matplotlib inline"
   ]
  },
  {
   "cell_type": "code",
   "execution_count": 12,
   "metadata": {},
   "outputs": [],
   "source": [
    "cascadePath = \"C:/Users/getbb/anaconda3/Lib/site-packages/cv2/data/haarcascade_frontalface_default.xml\"\n",
    "faceCascade = cv2.CascadeClassifier(cascadePath)\n",
    "cap = cv2.VideoCapture(0)\n",
    "cap.set(cv2.CAP_PROP_FPS, 24) # Чистота кадров\n",
    "j=0\n",
    "while j<200 :\n",
    "    ret, img = cap.read()\n",
    "    gray = cv2.cvtColor(img, cv2.COLOR_BGR2GRAY)\n",
    "\n",
    "    faces = faceCascade.detectMultiScale(\n",
    "        gray,               #\n",
    "        scaleFactor=1.2,    #\n",
    "        minNeighbors=5,     #\n",
    "        minSize=(20, 20)    #\n",
    "    )\n",
    "    \n",
    "    for (x, y, w, h) in faces:\n",
    "        face=gray[y: y + h, x: x + w]  \n",
    "        resize_face=cv2.resize(face, (224,224))\n",
    "        arr_faces.append(resize_face)\n",
    "        path=\"my_faces/\"+str(j)+\".jpg\"\n",
    "        isWritten =cv2.imwrite(path,resize_face)\n",
    "        if isWritten :\n",
    "            j+=1\n",
    "cap.release()"
   ]
  },
  {
   "cell_type": "code",
   "execution_count": null,
   "metadata": {},
   "outputs": [],
   "source": []
  }
 ],
 "metadata": {
  "kernelspec": {
   "display_name": "Python 3",
   "language": "python",
   "name": "python3"
  },
  "language_info": {
   "codemirror_mode": {
    "name": "ipython",
    "version": 3
   },
   "file_extension": ".py",
   "mimetype": "text/x-python",
   "name": "python",
   "nbconvert_exporter": "python",
   "pygments_lexer": "ipython3",
   "version": "3.8.3"
  }
 },
 "nbformat": 4,
 "nbformat_minor": 4
}
